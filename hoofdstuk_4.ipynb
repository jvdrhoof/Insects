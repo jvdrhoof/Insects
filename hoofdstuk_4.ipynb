{
 "cells": [
  {
   "cell_type": "markdown",
   "id": "1f218527",
   "metadata": {},
   "source": [
    "# Modelleren van de levensloop van een kever met de Lesliematrix\n",
    "\n",
    "In de vorige hoofdstukken concentreerden we ons op het aantal rupsen van de buxusmot doorheen de tijd, waarbij we een rups als een onveranderende entiteit beschouwden. In dit hoofdstuk zullen we ook rekening houden met de levensfase en -vorm waarin een insect zich kan bevinden. Daarvoor zullen we de kever beschouwen, die drie verschillende levensfases doorloopt:\n",
    "\n",
    "- De kever komt ter wereld in de vorm van een eitje\n",
    "- Uit het eitje komt een larve gekropen\n",
    "- De larve ontpopt zich tot een kever\n",
    "\n",
    "Voor een bioloog is het interessant om te weten hoeveel eitjes, larven en kevers er op verschillende momenten in de tijd zijn. In dit hoofdstuk zal je leren dat deze populatiegroottes gemodelleerd kunnen worden met behulp van de **Lesliematrix**."
   ]
  },
  {
   "cell_type": "markdown",
   "id": "4734b7f3",
   "metadata": {},
   "source": [
    "De overgang van één fase naar een andere is niet meteen evident te noemen. Zo werd er empirisch vastgesteld dat maar liefst 95% van de eitjes opgegeten wordt of nooit uitkomt. Wanneer er initieel 1000 eitjes zijn, blijven er na een maand dus slechts ongeveer 50 over. De kans om vervolgens van een larve naar een kever te gaan is een stuk groter: maar liefst 75%. Eens ontpopt tot een kever, legt deze in een maand tijd ongeveer 100 eitjes.\n",
    "\n",
    "Je kunt al deze informatie nu in een graaf gieten, die de toestand op een zeker moment in de tijd bevat:\n",
    "\n",
    "![Graaf](files/graph.png \"https://www.wisfaq.nl/pagina.asp?nummer=1883\")\n",
    "\n",
    "Op basis van de waarden van de knopen in de graaf, kan de volgende toestand berekend worden. Om dit proces te vereenvoudigen, zal je matrices gebruiken."
   ]
  },
  {
   "cell_type": "markdown",
   "id": "67c8550d",
   "metadata": {},
   "source": [
    "## De Lesliematrix\n",
    "\n",
    "Om aan matrixvermenigvuldiging te kunnen doen, stel je de toestand op tijdstip $0$ gelijk aan de vector $v_0 = \\begin{bmatrix} 1000 \\\\ 100 \\\\ 60 \\end{bmatrix}$, die het aantal eitjes, levers en kevers bevat. Om dan de toestand $v_{1}$ op tijdstip $1$ te bepalen, gebruik je de **Lesliematrix** $L$ die de populatiegroei beschrijft. In bovenstaand voorbeeld ziet deze er als volgt uit:\n",
    "\n",
    "$$L = \\begin{bmatrix} 0 & 0 & 100 \\\\ 0.05 & 0 & 0 \\\\ 0 & 0.75 & 0 \\end{bmatrix}$$\n",
    "\n",
    "Vertrek je van de toestand $v_0$, dan kan $v_{1}$ berekend worden als volgt:\n",
    "\n",
    "$$v_{1} = L v_0 = \\begin{bmatrix} 0 & 0 & 100 \\\\ 0.05 & 0 & 0 \\\\ 0 & 0.75 & 0 \\end{bmatrix} \\begin{bmatrix} 1000 \\\\ 100 \\\\ 60 \\end{bmatrix} = \\begin{bmatrix} 6000 \\\\ 50 \\\\ 75 \\end{bmatrix}$$\n",
    "\n",
    "Ga je een stap verder, dan vind je:\n",
    "\n",
    "$$v_{2} = L v_{1} = \\begin{bmatrix} 0 & 0 & 100 \\\\ 0.05 & 0 & 0 \\\\ 0 & 0.75 & 0 \\end{bmatrix} \\begin{bmatrix} 6000 \\\\ 50 \\\\ 75 \\end{bmatrix} = \\begin{bmatrix} 7500 \\\\ 300 \\\\ 37.5 \\end{bmatrix}$$\n",
    "\n",
    "Bemerk dat deze laatste uitdrukking ook als volgt geschreven kan worden:\n",
    "\n",
    "$$v_{2} = L v_{1} = L L v_{0} = L^2 v_{0}$$\n",
    "\n",
    "Om het aantal eitjes, larven en kevers in tijdstap $t$ te berekenen, volstaat het om de $n$de macht van de matrix $L$ te berekenen, en deze te vermenigvuldigen met $v_0$:\n",
    "\n",
    "$$v_{t} = L^t v_{0}$$\n",
    "\n",
    "Hieronder zal je Python gebruiken om aan matrixvermenigvuldiging te doen."
   ]
  },
  {
   "cell_type": "markdown",
   "id": "cb8e8302",
   "metadata": {},
   "source": [
    "## Matrixvermenigvuldiging in Python\n",
    "\n",
    "In Python kan je de `Numpy` module gebruiken, die toelaat om met vectoren en matrices te werken. Een rijmatrix (of vector) V kan als volgt gedefinieerd worden:"
   ]
  },
  {
   "cell_type": "code",
   "execution_count": 1,
   "id": "b0454b18",
   "metadata": {},
   "outputs": [
    {
     "name": "stdout",
     "output_type": "stream",
     "text": [
      "[1 2 3]\n"
     ]
    }
   ],
   "source": [
    "# importeer de nodige bibliotheken\n",
    "import numpy as np\n",
    "\n",
    "\n",
    "v = np.array([1, 2, 3])\n",
    "print(v)"
   ]
  },
  {
   "cell_type": "markdown",
   "id": "5d1ee773",
   "metadata": {},
   "source": [
    "Een matrix $M$ kan als volgt gedefinieerd worden:"
   ]
  },
  {
   "cell_type": "code",
   "execution_count": 2,
   "id": "de21d00e",
   "metadata": {},
   "outputs": [
    {
     "name": "stdout",
     "output_type": "stream",
     "text": [
      "[[10 32 67]\n",
      " [46 71 14]\n",
      " [19 23 31]]\n"
     ]
    }
   ],
   "source": [
    "M = np.array([[10, 32, 67], [46, 71, 14], [19, 23, 31]])\n",
    "print(M)"
   ]
  },
  {
   "cell_type": "markdown",
   "id": "64a45ca1",
   "metadata": {},
   "source": [
    "Beschouw een tweede matrix $N$:"
   ]
  },
  {
   "cell_type": "code",
   "execution_count": 3,
   "id": "ba670226",
   "metadata": {},
   "outputs": [
    {
     "name": "stdout",
     "output_type": "stream",
     "text": [
      "[[50 30 60]\n",
      " [10 80 60]\n",
      " [20 15 30]]\n"
     ]
    }
   ],
   "source": [
    "N = np.array([[50, 30, 60], [10, 80, 60], [20, 15, 30]])\n",
    "print(N)"
   ]
  },
  {
   "cell_type": "markdown",
   "id": "1d40e15c",
   "metadata": {},
   "source": [
    "### Opdracht 1\n",
    "\n",
    "Reken alle elementen van de eerste rij van het product $M$ met $N$ met de hand uit. Welke waarden bekom je?"
   ]
  },
  {
   "cell_type": "markdown",
   "id": "82e8432a",
   "metadata": {},
   "source": [
    "[2160, 3865, 4530]"
   ]
  },
  {
   "cell_type": "markdown",
   "id": "e063ebf3",
   "metadata": {},
   "source": [
    "In Python kan je deze twee matrices als volgt vermenigvuldigen:"
   ]
  },
  {
   "cell_type": "code",
   "execution_count": 4,
   "id": "6ed82369",
   "metadata": {},
   "outputs": [
    {
     "name": "stdout",
     "output_type": "stream",
     "text": [
      "[[2160 3865 4530]\n",
      " [3290 7270 7440]\n",
      " [1800 2875 3450]]\n"
     ]
    }
   ],
   "source": [
    "L = M @ N\n",
    "print(L)"
   ]
  },
  {
   "cell_type": "markdown",
   "id": "3250c5be",
   "metadata": {},
   "source": [
    "> **Waarschuwing**\n",
    "> Gelet op het feit dat $v$ een rijmatrix is, is het wiskundig gezien niet mogelijk om $v$ links te vermenigvuldigen met $L$. Met de `NumPy` module gaat dit echter wel:"
   ]
  },
  {
   "cell_type": "code",
   "execution_count": 5,
   "id": "4eaa6b89",
   "metadata": {},
   "outputs": [
    {
     "name": "stdout",
     "output_type": "stream",
     "text": [
      "[23480 40150 17900]\n"
     ]
    }
   ],
   "source": [
    "X = L @ v\n",
    "print(X)"
   ]
  },
  {
   "cell_type": "markdown",
   "id": "4a748633",
   "metadata": {},
   "source": [
    "Hoewel programmeurs dit extra werk typisch zullen vermijden, is het ook correct om $v$ te definiëren als een kolommatrix. In dat geval vind je:"
   ]
  },
  {
   "cell_type": "code",
   "execution_count": 6,
   "id": "ee42a48a",
   "metadata": {},
   "outputs": [
    {
     "name": "stdout",
     "output_type": "stream",
     "text": [
      "[[1]\n",
      " [2]\n",
      " [3]]\n"
     ]
    }
   ],
   "source": [
    "v = np.array([[1], [2], [3]])\n",
    "print(v)"
   ]
  },
  {
   "cell_type": "code",
   "execution_count": 7,
   "id": "1ff739a5",
   "metadata": {},
   "outputs": [
    {
     "name": "stdout",
     "output_type": "stream",
     "text": [
      "[[23480]\n",
      " [40150]\n",
      " [17900]]\n"
     ]
    }
   ],
   "source": [
    "X = L @ v\n",
    "print(X)"
   ]
  },
  {
   "cell_type": "markdown",
   "id": "06f0930c",
   "metadata": {},
   "source": [
    "## Terug naar de insecten\n",
    "\n",
    "Gewapend met bovenstaande kennis, kan je de vector $v_0$ en de Lesliematrix $L$ uit het voorbeeld van de kevers als volgt definiëren:"
   ]
  },
  {
   "cell_type": "code",
   "execution_count": 8,
   "id": "5b5f257b",
   "metadata": {},
   "outputs": [
    {
     "name": "stdout",
     "output_type": "stream",
     "text": [
      "[1000  100   60]\n"
     ]
    }
   ],
   "source": [
    "v_0 = np.array([1000, 100, 60])\n",
    "print(v_0)"
   ]
  },
  {
   "cell_type": "code",
   "execution_count": 9,
   "id": "62129eca",
   "metadata": {},
   "outputs": [
    {
     "name": "stdout",
     "output_type": "stream",
     "text": [
      "[[0.0e+00 0.0e+00 1.0e+02]\n",
      " [5.0e-02 0.0e+00 0.0e+00]\n",
      " [0.0e+00 7.5e-01 0.0e+00]]\n"
     ]
    }
   ],
   "source": [
    "L = np.array([[0, 0, 100], [0.05, 0, 0], [0, 0.75, 0]])\n",
    "print(L)"
   ]
  },
  {
   "cell_type": "markdown",
   "id": "c905f371",
   "metadata": {},
   "source": [
    "De wiskundige notatie kan ietwat verwarrend zijn. Daarom kan volgende commando gebruikt worden:"
   ]
  },
  {
   "cell_type": "code",
   "execution_count": 10,
   "id": "562e45c7",
   "metadata": {},
   "outputs": [],
   "source": [
    "np.set_printoptions(suppress=True)"
   ]
  },
  {
   "cell_type": "markdown",
   "id": "ad82d85d",
   "metadata": {},
   "source": [
    "Nu wordt de matrix als volgt geprint:"
   ]
  },
  {
   "cell_type": "code",
   "execution_count": 11,
   "id": "0c40e50f",
   "metadata": {},
   "outputs": [
    {
     "name": "stdout",
     "output_type": "stream",
     "text": [
      "[[  0.     0.   100.  ]\n",
      " [  0.05   0.     0.  ]\n",
      " [  0.     0.75   0.  ]]\n"
     ]
    }
   ],
   "source": [
    "print(L)"
   ]
  },
  {
   "cell_type": "markdown",
   "id": "ca145f80",
   "metadata": {},
   "source": [
    "De toestand op tijdstip $t = 1$ kan nu als volgt berekend worden:"
   ]
  },
  {
   "cell_type": "code",
   "execution_count": 12,
   "id": "c31e7b68",
   "metadata": {},
   "outputs": [
    {
     "name": "stdout",
     "output_type": "stream",
     "text": [
      "[6000.   50.   75.]\n"
     ]
    }
   ],
   "source": [
    "v_1 = L @ v_0\n",
    "print(v_1)"
   ]
  },
  {
   "cell_type": "markdown",
   "id": "19d3d93a",
   "metadata": {},
   "source": [
    "Voor de toestand op tijdstip $t = 2$ vind je dan:"
   ]
  },
  {
   "cell_type": "code",
   "execution_count": 13,
   "id": "2b8cb677",
   "metadata": {},
   "outputs": [
    {
     "name": "stdout",
     "output_type": "stream",
     "text": [
      "[7500.   300.    37.5]\n"
     ]
    }
   ],
   "source": [
    "v_2 = L @ v_1\n",
    "print(v_2)"
   ]
  },
  {
   "cell_type": "markdown",
   "id": "f92313f4",
   "metadata": {},
   "source": [
    "### Opdracht 1\n",
    "\n",
    "Implementeer de volgende functie, die de toestand na $t$ tijdsstappen berekent met behulp van de `NumPy` library. Gebruik hierbij enkel de operator `@` om aan matrixvermenigvuldiging te doen. "
   ]
  },
  {
   "cell_type": "code",
   "execution_count": 14,
   "id": "f6354548",
   "metadata": {},
   "outputs": [],
   "source": [
    "def bereken_toestand(L, v_0, t):\n",
    "    \"\"\"\n",
    "    Geef, vertrekkend vanuit de toestand v_0, de toestand na t tijdsstappen\n",
    "    terug wanneer de populatiegroei bepaald wordt door de Lesliematrix L\n",
    "    \n",
    "    Parameters\n",
    "    ----------\n",
    "    L: 2D array\n",
    "        De Lesliematrix\n",
    "    v_0: 1D array\n",
    "        De huidige toestand\n",
    "    t: int\n",
    "        Het aantal tijdsstappen\n",
    "\n",
    "    Output\n",
    "    ------\n",
    "    array\n",
    "        De nieuwe toestand\n",
    "    \"\"\"\n",
    "    \n",
    "    M = L\n",
    "    for i in range(t - 1):\n",
    "        M = M @ L\n",
    "    return M @ v_0"
   ]
  },
  {
   "cell_type": "markdown",
   "id": "7ed518c3",
   "metadata": {},
   "source": [
    "Als je deze functie juist geïmplementeerd hebt, zouden onderstaande commando's tot dezelfde resultaten moeten leiden als het voorbeeld in de inleiding van dit hoofdstuk: $\\begin{bmatrix} 6000 \\\\ 50 \\\\ 75 \\end{bmatrix}$ en $\\begin{bmatrix} 7500 \\\\ 300 \\\\ 37,5 \\end{bmatrix}$. Controleer dit!"
   ]
  },
  {
   "cell_type": "code",
   "execution_count": 15,
   "id": "cf2d7650",
   "metadata": {},
   "outputs": [
    {
     "name": "stdout",
     "output_type": "stream",
     "text": [
      "[6000.   50.   75.]\n"
     ]
    }
   ],
   "source": [
    "v_1 = bereken_toestand(L, v_0, 1)\n",
    "print(v_1)"
   ]
  },
  {
   "cell_type": "code",
   "execution_count": 16,
   "id": "d912e73c",
   "metadata": {},
   "outputs": [
    {
     "name": "stdout",
     "output_type": "stream",
     "text": [
      "[7500.   300.    37.5]\n"
     ]
    }
   ],
   "source": [
    "v_2 = bereken_toestand(L, v_0, 2)\n",
    "print(v_2)"
   ]
  },
  {
   "cell_type": "markdown",
   "id": "2097f0e8",
   "metadata": {},
   "source": [
    "### Opdracht 2\n",
    "\n",
    "De functie die je zonet geïmplementeerd hebt, kan een stuk vereenvoudigd worden door gebruik te maken van de functie `linalg.matrix_power`, die als argument de matrix $L$ en de exponent $t$ heeft. Meer informatie over deze functie vind je [hier](https://numpy.org/doc/stable/reference/generated/numpy.linalg.matrix_power.html). Gebruik deze functie om je vorige implementatie te vereenvoudigen, en test deze vervolgens opnieuw uit. Bekom je dezelfde waarden als voorheen?"
   ]
  },
  {
   "cell_type": "code",
   "execution_count": 17,
   "id": "89ae5a32",
   "metadata": {},
   "outputs": [],
   "source": [
    "def bereken_toestand(L, v_0, t):\n",
    "    \"\"\"\n",
    "    Geef, vertrekkend vanuit de toestand v_0, de toestand na t tijdsstappen\n",
    "    terug wanneer de populatiegroei bepaald wordt door de Lesliematrix L\n",
    "    \n",
    "    Parameters\n",
    "    ----------\n",
    "    L: 2D array\n",
    "        De Lesliematrix\n",
    "    v_0: 1D array\n",
    "        De huidige toestand\n",
    "    t: int\n",
    "        Het aantal tijdsstappen\n",
    "\n",
    "    Output\n",
    "    ------\n",
    "    array\n",
    "        De nieuwe toestand\n",
    "    \"\"\"\n",
    "    \n",
    "    return np.linalg.matrix_power(L, t) @ v_0"
   ]
  },
  {
   "cell_type": "code",
   "execution_count": 18,
   "id": "155a662b",
   "metadata": {},
   "outputs": [
    {
     "name": "stdout",
     "output_type": "stream",
     "text": [
      "[6000.   50.   75.]\n"
     ]
    }
   ],
   "source": [
    "v_1 = bereken_toestand(L, v_0, 1)\n",
    "print(v_1)"
   ]
  },
  {
   "cell_type": "code",
   "execution_count": 19,
   "id": "0540a066",
   "metadata": {},
   "outputs": [
    {
     "name": "stdout",
     "output_type": "stream",
     "text": [
      "[7500.   300.    37.5]\n"
     ]
    }
   ],
   "source": [
    "v_2 = bereken_toestand(L, v_0, 2)\n",
    "print(v_2)"
   ]
  },
  {
   "cell_type": "markdown",
   "id": "1c77b368",
   "metadata": {},
   "source": [
    "Je kunt nu gerust een paar stappen verder gaan! Bereken het resultaat voor $t = 100$ en stel vast dat je wel erg grote waarden bekomt."
   ]
  },
  {
   "cell_type": "code",
   "execution_count": 20,
   "id": "ccae5f6b",
   "metadata": {},
   "outputs": [
    {
     "name": "stdout",
     "output_type": "stream",
     "text": [
      "[5.26239066e+22 4.38532555e+20 6.57798833e+20]\n"
     ]
    }
   ],
   "source": [
    "v_100 = bereken_toestand(L, v_0, 100)\n",
    "print(v_100)"
   ]
  },
  {
   "cell_type": "markdown",
   "id": "53ce8d01",
   "metadata": {},
   "source": [
    "Ga je nog even verder, dan bekom je voor $t = 1000$:"
   ]
  },
  {
   "cell_type": "code",
   "execution_count": 21,
   "id": "215b82f3",
   "metadata": {},
   "outputs": [
    {
     "name": "stdout",
     "output_type": "stream",
     "text": [
      "[8.52242923e+194 7.10202436e+192 1.06530365e+193]\n"
     ]
    }
   ],
   "source": [
    "v_1000 = bereken_toestand(L, v_0, 1000)\n",
    "print(v_1000)"
   ]
  },
  {
   "cell_type": "markdown",
   "id": "8dd99cd8",
   "metadata": {},
   "source": [
    "Het lijkt erop dat de groei min of meer ongeremd is!"
   ]
  },
  {
   "cell_type": "markdown",
   "id": "b1913809",
   "metadata": {},
   "source": [
    "### Opdracht 3\n",
    "\n",
    "Vaak is men niet alleen geïnteresseerd in het aantal eitjes, larven en kevers in elke tijdsstap, maar ook in het totale aantal dieren. Op tijdstip $t = 0$ bedraagt het totale aantal $1000 + 100 + 60 = 1160$. Je kunt ervoor zorgen dat dit totaal in elke tijdsstap automatisch berekend wordt, door deze op te nemen in de toestand $v_0$:"
   ]
  },
  {
   "cell_type": "code",
   "execution_count": 22,
   "id": "fc904223",
   "metadata": {},
   "outputs": [],
   "source": [
    "v_0 = np.array([1000, 100, 60, 1160])"
   ]
  },
  {
   "cell_type": "markdown",
   "id": "78f9c8ee",
   "metadata": {},
   "source": [
    "Om verdere berekeningen mogelijk te maken, zal de Lesliematrix $L$ aangepast moeten worden. Gelukkig laat de `NumPy` library toe om matrices als volgt uit te breiden:"
   ]
  },
  {
   "cell_type": "code",
   "execution_count": 23,
   "id": "f72a1e8c",
   "metadata": {},
   "outputs": [
    {
     "name": "stdout",
     "output_type": "stream",
     "text": [
      "[[10 32 67]\n",
      " [46 71 14]\n",
      " [19 23 31]]\n"
     ]
    }
   ],
   "source": [
    "print(M)"
   ]
  },
  {
   "cell_type": "code",
   "execution_count": 24,
   "id": "6b48fbe2",
   "metadata": {},
   "outputs": [
    {
     "name": "stdout",
     "output_type": "stream",
     "text": [
      "[[10 32 67]\n",
      " [46 71 14]\n",
      " [19 23 31]\n",
      " [ 1  2  3]]\n"
     ]
    }
   ],
   "source": [
    "M_new = np.append(M, [[1, 2, 3]], 0)\n",
    "print(M_new)"
   ]
  },
  {
   "cell_type": "code",
   "execution_count": 25,
   "id": "db55c662",
   "metadata": {},
   "outputs": [
    {
     "name": "stdout",
     "output_type": "stream",
     "text": [
      "[[10 32 67  1]\n",
      " [46 71 14  2]\n",
      " [19 23 31  3]]\n"
     ]
    }
   ],
   "source": [
    "M_new = np.append(M, [[1], [2], [3]], 1)\n",
    "print(M_new)"
   ]
  },
  {
   "cell_type": "markdown",
   "id": "8c5f6ec5",
   "metadata": {},
   "source": [
    "Wanneer de derde parameter van de functie `append` gelijk is aan $0$ wordt dus een nieuwe rij ingevoegd, en wanneer deze gelijk is aan $1$ wordt een nieuwe kolom ingevoegd.\n",
    "\n",
    "### Opdracht 4\n",
    "\n",
    "Gebruik deze kennis nu om de Lesliematrix $L$ uit te breiden tot een matrix van dimensie $4 \\times 4$, zodat het resultaat van $L v_0$ gelijk is aan $v_1 = [6000, 50, 75, 6125]$ en $L^2 v_0$ gelijk is aan $v_2 = [7500, 300, 37.5, 7837.5]$."
   ]
  },
  {
   "cell_type": "code",
   "execution_count": 26,
   "id": "586603ba",
   "metadata": {},
   "outputs": [
    {
     "name": "stdout",
     "output_type": "stream",
     "text": [
      "[[  0.     0.   100.     0.  ]\n",
      " [  0.05   0.     0.     0.  ]\n",
      " [  0.     0.75   0.     0.  ]\n",
      " [  0.05   0.75 100.     0.  ]]\n"
     ]
    }
   ],
   "source": [
    "L_new = np.append(np.append(L, [[.05, 0.75, 100]], 0), np.zeros([4, 1]), 1)\n",
    "print(L_new)"
   ]
  },
  {
   "cell_type": "code",
   "execution_count": 27,
   "id": "e5dfca19",
   "metadata": {},
   "outputs": [
    {
     "name": "stdout",
     "output_type": "stream",
     "text": [
      "[6000.   50.   75. 6125.]\n"
     ]
    }
   ],
   "source": [
    "v_1 = bereken_toestand(L_new, v_0, 1)\n",
    "print(v_1)"
   ]
  },
  {
   "cell_type": "code",
   "execution_count": 28,
   "id": "1279f743",
   "metadata": {},
   "outputs": [
    {
     "name": "stdout",
     "output_type": "stream",
     "text": [
      "[7500.   300.    37.5 7837.5]\n"
     ]
    }
   ],
   "source": [
    "v_2 = bereken_toestand(L_new, v_0, 2)\n",
    "print(v_2)"
   ]
  },
  {
   "cell_type": "markdown",
   "id": "88f3f190",
   "metadata": {},
   "source": [
    "Je bent nu in staat om de totale populatiegrootte te berekenen. In de volgende opdracht zal je deze weergeven als een functie van de tijd!"
   ]
  },
  {
   "cell_type": "markdown",
   "id": "695593ec",
   "metadata": {},
   "source": [
    "### Opdracht 5\n",
    "\n",
    "Implementeer onderstaande functie, die als doel heeft een grafiek te maken van de populatiegrootte doorheen de tijd. Het is de bedoeling om stap voor stap over alle toestanden te itereren, en het resultaat als een nieuwe rij toe te voegen aan de matrix `results`. Hiertoe kan je de functie `vstack` gebruiken, waar [hier](https://numpy.org/doc/stable/reference/generated/numpy.vstack.html) meer over te vinden is. Eens je over alle toestanden geïtereerd hebt, kan de vierde kolom (index 3 in Python) gebruikt worden als de y-waarde van de functie `plot`; als x-waarde gebruik je een array met alle gehele getallen van $0$ tot en met $t$. Als alles goed is, zou je hierna een figuur moeten kunnen weergeven waarin de populatiegrootte getoond wordt voor tien nieuwe tijdsstappen."
   ]
  },
  {
   "cell_type": "code",
   "execution_count": 29,
   "id": "798fa9b4",
   "metadata": {},
   "outputs": [],
   "source": [
    "# importeer de nodige bibliotheken\n",
    "from matplotlib import pyplot as plt\n",
    "\n",
    "\n",
    "def plot_populatiegrootte(L, v_0, t):\n",
    "    \"\"\"\n",
    "    Plot, vertrekkend vanuit de toestand v, de populatiegrootte gedurende t\n",
    "    tijdsstappen, waarbij de populatiegroei bepaald wordt door de Lesliematrix L\n",
    "    \n",
    "    Parameters\n",
    "    ----------\n",
    "    L: 2D array\n",
    "        De Lesliematrix\n",
    "    v_0: 1D array\n",
    "        De huidige toestand\n",
    "    t: int\n",
    "        Het aantal tijdsstappen\n",
    "    \"\"\"\n",
    "    \n",
    "    # maak een nieuwe grafiek aan\n",
    "    plt.figure()\n",
    "    \n",
    "    # start met een enkele rij, die de huidige toestand bevat\n",
    "    results = np.array([v_0])\n",
    "    \n",
    "    # TODO: itereer stap per stap over alle toestanden en voeg deze toe\n",
    "    for i in range(t):\n",
    "        results = np.vstack([results, L @ results[-1]])\n",
    "    \n",
    "    # TODO: plot de populatiegrootte doorheen de tijd\n",
    "    plt.scatter(np.arange(t + 1), results[:, 3])\n",
    "    \n",
    "    # breng verduidelijkende labels aan\n",
    "    plt.xlabel(\"Tijdsstap\")\n",
    "    plt.ylabel(\"Populatiegrootte\")\n",
    "    \n",
    "    # voeg een titel toe\n",
    "    plt.title(\"Populatiegrootte doorheen de tijd\")\n",
    "    \n",
    "    # toon de grafiek\n",
    "    plt.show()"
   ]
  },
  {
   "cell_type": "code",
   "execution_count": 30,
   "id": "20f5f987",
   "metadata": {},
   "outputs": [
    {
     "data": {
      "image/png": "[encoded data removed]",
      "text/plain": [
       "<Figure size 432x288 with 1 Axes>"
      ]
     },
     "metadata": {
      "needs_background": "light"
     },
     "output_type": "display_data"
    }
   ],
   "source": [
    "plot_populatiegrootte(L_new, v_0, 10)"
   ]
  },
  {
   "cell_type": "markdown",
   "id": "3f75a31c",
   "metadata": {},
   "source": [
    "Het is ook mogelijk om de functie `stackplot` te gebruiken, waarbij de grafiek weergeeft hoeveel dieren van elke soort (eitjes, larven en kevers) er op elk moment zijn. Wanneer vertrokken wordt van een begintoestand $v_0$ en de Lesliematrix $L$ gebruikt wordt om de populatiegroei te beschrijven, kan dit kan als volgt (details niet te kennen, enkel informatief):"
   ]
  },
  {
   "cell_type": "code",
   "execution_count": 31,
   "id": "8a7eb2a3",
   "metadata": {},
   "outputs": [],
   "source": [
    "def plot_aantallen_in_levensfases(L, v_0, t):\n",
    "    '''\n",
    "    Plot, vertrekkend vanuit de toestand v, het aantal eitjes, larven en kevers\n",
    "    gedurende t tijdsstappen, waarbij de populatiegroei bepaald wordt door de\n",
    "    Lesliematrix L\n",
    "    \n",
    "    Parameters\n",
    "    ----------\n",
    "    L: 2D array\n",
    "        De Lesliematrix\n",
    "    v_0: 1D array\n",
    "        De huidige toestand\n",
    "    t: int\n",
    "        Het aantal tijdsstappen\n",
    "    '''\n",
    "    \n",
    "    # bereken de resultaten\n",
    "    results = v_0.reshape(len(v_0), 1)\n",
    "    for i in range(t):\n",
    "        v_t = L @ results[:, -1]\n",
    "        results = np.append(results, v_t.reshape(len(v_t), 1), 1)\n",
    "    \n",
    "    # maak een nieuwe grafiek aan\n",
    "    plt.figure()\n",
    "    \n",
    "    # gebruik de functie stackplot om de som van waarden te bepalen\n",
    "    plt.stackplot(np.arange(t + 1), results[:3], baseline=\"zero\")\n",
    "    \n",
    "    # voeg een legende toe\n",
    "    plt.legend([\"Eitjes\", \"Larven\", \"Kevers\"], loc=\"upper left\")\n",
    "    \n",
    "    # breng verduidelijkende labels aan\n",
    "    plt.xlabel(\"Tijdsstap\")\n",
    "    plt.ylabel(\"Aantal\")\n",
    "    \n",
    "    # limiteer de x-as tot het interval [0, t]\n",
    "    ax = plt.gca()\n",
    "    ax.set_xlim(0, 20)\n",
    "    \n",
    "    # voeg een titel toe\n",
    "    plt.title(\"Aandeel eitjes, larven en kevers\")\n",
    "    \n",
    "    # toon de grafiek\n",
    "    plt.show()"
   ]
  },
  {
   "cell_type": "code",
   "execution_count": 32,
   "id": "5c2f0e8e",
   "metadata": {},
   "outputs": [
    {
     "data": {
      "image/png": "[encoded data removed]",
      "text/plain": [
       "<Figure size 432x288 with 1 Axes>"
      ]
     },
     "metadata": {
      "needs_background": "light"
     },
     "output_type": "display_data"
    }
   ],
   "source": [
    "plot_aantallen_in_levensfases(L_new, v_0, 20)"
   ]
  },
  {
   "cell_type": "markdown",
   "id": "5aea5891",
   "metadata": {},
   "source": [
    "Hier stel je duidelijk vast dat het grootste deel van de populatie bestaat uit eitjes, en dat er over het algemeen meer larven dan kevers zijn. In het volgende voorbeeld zal het verschil tussen verschillende categorieën minder uitgesproken zijn."
   ]
  },
  {
   "cell_type": "markdown",
   "id": "abee290b",
   "metadata": {},
   "source": [
    "## De insecten voorbij\n",
    "\n",
    "De Lesliematrix werd in voorgaand voorbeeld uitsluitend gebruikt om een kever van één levensloop naar een andere te doen gaan, waarbij enkel een kever voor reproductie in de vorm van eitjes kon zorgen. Het model kan evenwel ook op andere manieren gebruikt worden. In wat volgt gebruik je het model om de levensloop van een vrouw in kader te brengen.\n",
    "\n",
    "Deel allereerst de levensloop van een vrouw in in perioden van tien jaar: van 0 tot 10 jaar, van 10 tot 20 jaar, etc. Vervolgens bereken je de kans dat een pasgeboren meisje de leeftijd van 10 jaar haalt, dat een meisje van 10 de leeftijd van 20 jaar haalt, dat een vrouw van 20 de leeftijd van 30 haalt, etc. Deze kans gebruik je als overgangswaarden van de ene toestand naar de volgende, net zoals je dat deed bij de kevers.\n",
    "\n",
    "Om de kansen te berekenen, baseer je je op de sterftetafel van 2022 in België, die [hier](https://statbel.fgov.be/sites/default/files/files/documents/bevolking/5.4%20Sterfte%2C%20levensverwachting%20en%20doodsoorzaken/5.4.3%20Sterftetafels%20en%20levensverwachting/sterftetafelsAE.xls) terug te vinden is. Om de kans te berekenen dat een pasgeboren meisje de leeftijd van 10 jaar haalt, volstaat het om het aantal meisjes van 10 jaar te delen door het aantal pasgeboren meisjes: $996227 / 1000000 \\approx 0.9962$. Op een gelijkaardige manier kan je te werk gaan om de andere kansen te berekenen. Vul op basis van de sterftetafel volgende tabel verder aan:"
   ]
  },
  {
   "cell_type": "markdown",
   "id": "9d2f021b",
   "metadata": {},
   "source": [
    "|  Leeftijd |  Kans  |\n",
    "|-----------|--------|\n",
    "|   0 -  10 | 0.9962 |\n",
    "|  10 -  20 | 0.9989 |\n",
    "|  20 -  30 | 0.9979 |\n",
    "|  30 -  40 | 0.9955 |\n",
    "|  40 -  50 | 0.9889 |\n",
    "|  50 -  60 | 0.9708 |\n",
    "|  60 -  70 | 0.9275 |\n",
    "|  70 -  80 | 0.8189 |\n",
    "|  80 -  90 | 0.4949 |\n",
    "|  90 - 100 | 0.0699 |\n",
    "| 100 - 110 | 0      |"
   ]
  },
  {
   "cell_type": "markdown",
   "id": "47478cdf",
   "metadata": {},
   "source": [
    "De laatste waarde van 0 is een onderschatting van de werkelijke kans om 110 jaar te worden wanneer de leeftijd van 100 bereikt wordt, maar je gebruikt deze hier bij gebrek aan data.\n",
    "\n",
    "Naast deze faseovergangen gedurende de levensloop van een vrouw, moet je ook rekening houden met de geboorte van nieuwe dochters. Hierbij kan je uitgaan van volgende fictieve data:\n",
    "\n",
    "|  Leeftijd | # dochters |\n",
    "|-----------|------------|\n",
    "|   0 -  10 | 0          |\n",
    "|  10 -  20 | 0.05       |\n",
    "|  20 -  30 | 0.57       |\n",
    "|  30 -  40 | 0.49       |\n",
    "|  40 -  50 | 0.04       |\n",
    "|  50 -  60 | 0          |\n",
    "|  60 -  70 | 0          |\n",
    "|  70 -  80 | 0          |\n",
    "|  80 -  90 | 0          |\n",
    "|  90 - 100 | 0          |\n",
    "| 100 - 110 | 0          |\n",
    "\n",
    "Dit houdt in dat de verwachtingswaarde van het aantal nieuwe dochters van tiener gelijk is aan 0.04, terwijl het verwachte aantal nieuwe dochters van een twintiger gelijk is aan 0.47.\n",
    "\n",
    "### Opdracht 6\n",
    "\n",
    "Ontwerp met behulp van de `NumPy` module een Lesliematrix $L$ die bovenstaande gegevens omvat. Maak hierbij gebruik van de functie `zeros`, die het mogelijk maakt om een matrix met enkel nullen aan te maken:"
   ]
  },
  {
   "cell_type": "code",
   "execution_count": 33,
   "id": "ebeaf39d",
   "metadata": {},
   "outputs": [
    {
     "name": "stdout",
     "output_type": "stream",
     "text": [
      "[[0. 0. 0. 0. 0. 0.]\n",
      " [0. 0. 0. 0. 0. 0.]\n",
      " [0. 0. 0. 0. 0. 0.]\n",
      " [0. 0. 0. 0. 0. 0.]]\n"
     ]
    }
   ],
   "source": [
    "M = np.zeros([4, 6])\n",
    "print(M)"
   ]
  },
  {
   "cell_type": "markdown",
   "id": "ca3babf3",
   "metadata": {},
   "source": [
    "Gebruik deze functie om een matrix $L$ met enkel nullen aan te maken, en vervolgens de berekende/gegeven waarden in te vullen. Je kunt dan de functies die hierboven geprogrammeerd werden opnieuw gebruiken om op basis van een toestand $v_0$ de nieuwe toestand $v_{1}$ tien jaar later te berekenen. Start vanuit deze toestand:\n",
    "\n",
    "$$v_0 = [660000, 656000, 650000, 640000, 630000, 610000, 580000, 530000, 500000, 200000, 15000]$$"
   ]
  },
  {
   "cell_type": "code",
   "execution_count": 34,
   "id": "579eb912",
   "metadata": {},
   "outputs": [
    {
     "name": "stdout",
     "output_type": "stream",
     "text": [
      "[[0.     0.05   0.57   0.49   0.04   0.     0.     0.     0.     0.\n",
      "  0.    ]\n",
      " [0.9962 0.     0.     0.     0.     0.     0.     0.     0.     0.\n",
      "  0.    ]\n",
      " [0.     0.9989 0.     0.     0.     0.     0.     0.     0.     0.\n",
      "  0.    ]\n",
      " [0.     0.     0.9979 0.     0.     0.     0.     0.     0.     0.\n",
      "  0.    ]\n",
      " [0.     0.     0.     0.9955 0.     0.     0.     0.     0.     0.\n",
      "  0.    ]\n",
      " [0.     0.     0.     0.     0.9889 0.     0.     0.     0.     0.\n",
      "  0.    ]\n",
      " [0.     0.     0.     0.     0.     0.9708 0.     0.     0.     0.\n",
      "  0.    ]\n",
      " [0.     0.     0.     0.     0.     0.     0.9275 0.     0.     0.\n",
      "  0.    ]\n",
      " [0.     0.     0.     0.     0.     0.     0.     0.8189 0.     0.\n",
      "  0.    ]\n",
      " [0.     0.     0.     0.     0.     0.     0.     0.     0.4949 0.\n",
      "  0.    ]\n",
      " [0.     0.     0.     0.     0.     0.     0.     0.     0.     0.0699\n",
      "  0.    ]]\n"
     ]
    }
   ],
   "source": [
    "# matrix met nullen\n",
    "L = np.zeros([11, 11])\n",
    "\n",
    "# overgang naar een andere leeftijdscategorie\n",
    "L[1, 0] = 0.9962\n",
    "L[2, 1] = 0.9989\n",
    "L[3, 2] = 0.9979\n",
    "L[4, 3] = 0.9955\n",
    "L[5, 4] = 0.9889\n",
    "L[6, 5] = 0.9708\n",
    "L[7, 6] = 0.9275\n",
    "L[8, 7] = 0.8189\n",
    "L[9, 8] = 0.4949\n",
    "L[10, 9] = 0.0699\n",
    "\n",
    "# aantal geboortes\n",
    "L[0, 1] = 0.05\n",
    "L[0, 2] = 0.57\n",
    "L[0, 3] = 0.49\n",
    "L[0, 4] = 0.04\n",
    "\n",
    "# print de matrix\n",
    "print(L)"
   ]
  },
  {
   "cell_type": "markdown",
   "id": "d4094b22",
   "metadata": {},
   "source": [
    "De huidige toestand wordt als volgt gedefinieerd:"
   ]
  },
  {
   "cell_type": "code",
   "execution_count": 35,
   "id": "30579ccb",
   "metadata": {},
   "outputs": [],
   "source": [
    "# Huidige toestand\n",
    "v_0 = np.array([660000, 656000, 650000, 640000, 630000, 610000, 580000, 530000, 500000, 200000, 15000])"
   ]
  },
  {
   "cell_type": "markdown",
   "id": "274b761b",
   "metadata": {},
   "source": [
    "Als je de matrix $L$ juist gedefinieerd hebt, zal je in staat zijn om stap per stap de nieuwe toestand te berekenen. Doe je dit bijvoorbeeld voor $v_{t + 1}$:"
   ]
  },
  {
   "cell_type": "code",
   "execution_count": 36,
   "id": "a3c14ff3",
   "metadata": {},
   "outputs": [
    {
     "name": "stdout",
     "output_type": "stream",
     "text": [
      "[742100.  657492.  655278.4 648635.  637120.  623007.  592188.  537950.\n",
      " 434017.  247450.   13980. ]\n"
     ]
    }
   ],
   "source": [
    "v_1 = L @ v_0\n",
    "print(v_1)"
   ]
  },
  {
   "cell_type": "markdown",
   "id": "17aa6d11",
   "metadata": {},
   "source": [
    "Net als bij de kevers, kan je ook hier het aandeel van elke categorie plotten doorheen de tijd. Deze keer geven we de resultaten ook terug als een array:"
   ]
  },
  {
   "cell_type": "code",
   "execution_count": 37,
   "id": "b328cc90",
   "metadata": {},
   "outputs": [],
   "source": [
    "def plot_leeftijden(L, v_0, t):\n",
    "    '''\n",
    "    Plot, vertrekkend vanuit de toestand v, het aantal vrouwen in een bepaalde\n",
    "    leeftijdscategorie gedurendeende t tijdsstappen, waarbij de populatiegroei\n",
    "    bepaald wordt door de Lesliematrix L\n",
    "    \n",
    "    Parameters\n",
    "    ----------\n",
    "    L: 2D array\n",
    "        De Lesliematrix\n",
    "    v_0: 1D array\n",
    "        De huidige toestand\n",
    "    t: int\n",
    "        Het aantal tijdsstappen\n",
    "    '''\n",
    "    \n",
    "    # bereken de resultaten\n",
    "    results = v_0.reshape(len(v_0), 1)\n",
    "    for i in range(t):\n",
    "        v_t = L @ results[:, -1]\n",
    "        results = np.append(results, v_t.reshape(len(v_t), 1), 1)\n",
    "    \n",
    "    # zet de resultaten om naar gehele getallen\n",
    "    results = (np.rint(results)).astype(int)\n",
    "    \n",
    "    # maak een nieuwe grafiek aan\n",
    "    plt.figure()\n",
    "    \n",
    "    # gebruik de functie stackplot om de som van waarden te bepalen\n",
    "    plt.stackplot(np.arange(t + 1), results, baseline=\"zero\")\n",
    "    \n",
    "    # voeg een legende toe\n",
    "    plt.legend([f'{10 * i} - {10 * i + 10}' for i in range(11)], loc='upper left',\n",
    "               bbox_to_anchor=(1, 1))\n",
    "    \n",
    "    # breng verduidelijkende labels aan\n",
    "    plt.xlabel(\"Tijdsstap\")\n",
    "    plt.ylabel(\"Aantal\")\n",
    "    \n",
    "    # limiteer de x-as tot het interval [0, t]\n",
    "    ax = plt.gca()\n",
    "    ax.set_xlim(0, t)\n",
    "    \n",
    "    # voeg een titel toe\n",
    "    plt.title('Aandeel leeftijdscategorieën')\n",
    "    \n",
    "    # toon de grafiek\n",
    "    plt.show()\n",
    "    \n",
    "    # geef de resultaten terug\n",
    "    return results"
   ]
  },
  {
   "cell_type": "code",
   "execution_count": 38,
   "id": "4c881fdd",
   "metadata": {},
   "outputs": [
    {
     "data": {
      "image/png": "[encoded data removed]",
      "text/plain": [
       "<Figure size 432x288 with 1 Axes>"
      ]
     },
     "metadata": {
      "needs_background": "light"
     },
     "output_type": "display_data"
    }
   ],
   "source": [
    "results = plot_leeftijden(L, v_0, 20)"
   ]
  },
  {
   "cell_type": "markdown",
   "id": "5b66d38d",
   "metadata": {},
   "source": [
    "Je ziet dat het aantal vrouwen in elke categorie stijgt.\n",
    "\n",
    "### Opdracht 7\n",
    "\n",
    "Wanneer zal het totale aantal pasgeboren meisjes voor het eerst groter zijn dan 1 miljoen? Dit kan je bepalen door stap voor stap de nieuwe toestand te berekenen, en na te gaan hoeveel pasgeboren meisjes er zijn. Print in elke tussenstap uit hoeveel tijdsperioden er gepasseerd zijn, en hoeveel meisjes er dan zijn. Stop met itereren zodra het aantal pasgeboren meisjes groter is dan 1 miljoen."
   ]
  },
  {
   "cell_type": "code",
   "execution_count": 39,
   "id": "937fc160",
   "metadata": {},
   "outputs": [
    {
     "name": "stdout",
     "output_type": "stream",
     "text": [
      "0, 660000\n",
      "1, 742100\n",
      "2, 749699\n",
      "3, 757563\n",
      "4, 805448\n",
      "5, 850157\n",
      "6, 863947\n",
      "7, 897461\n",
      "8, 947118\n",
      "9, 980257\n",
      "10, 1010218\n"
     ]
    }
   ],
   "source": [
    "t = 0\n",
    "print(f\"{t}, {results[0][t]}\")\n",
    "while results[0][t] < 1000000:\n",
    "    t += 1\n",
    "    print(f\"{t}, {results[0][t]}\")"
   ]
  },
  {
   "cell_type": "markdown",
   "id": "b46ca9c9",
   "metadata": {},
   "source": [
    "### Opdracht 8\n",
    "\n",
    "Sla de berekende data voor twintig generaties finaal op als een CSV-bestand met de naam `results.csv`. De indeling van dit bestand moet er als volgt uitzien:\n",
    "\n",
    "---\n",
    "\n",
    "generatie;decennium_01;decennium_02;...;decennium_11\n",
    "\n",
    "0;660000;656000;...;15000\n",
    "\n",
    "1;742100;657492;...;13980\n",
    "\n",
    "...\n",
    "\n",
    "20;1498193;1437614;...;25190\n",
    "\n",
    "---\n",
    "\n",
    "Je kunt dit verwezenlijken door de `Pandas` module te gebruiken. Bekijk zeker even [deze codevoorbeelden](https://sparkbyexamples.com/pandas/pandas-write-dataframe-to-csv-file/?expand_article=1). Vul volgende TODO's aan om tot een juiste oplossing te komen:"
   ]
  },
  {
   "cell_type": "code",
   "execution_count": 40,
   "id": "e1e6a37e",
   "metadata": {},
   "outputs": [],
   "source": [
    "# TODO: importeer de nodige modules\n",
    "import pandas as pd\n",
    "\n",
    "\n",
    "# TODO: genereer een dataframe df van de getransponeerde matrix results,\n",
    "# met als kolomnamen \"decennium_01\" tot en met \"decennium_11\"\n",
    "df = pd.DataFrame(results.T, columns = [f\"decennium_{i:02}\" for i in range(1, 12)])\n",
    "\n",
    "# stel de naam van de index gelijk aan \"generaties\"\n",
    "df.index.name = \"generaties\"\n",
    "\n",
    "# TODO: sla het bestand op met \";\" als separator\n",
    "df.to_csv('resultaten.csv', sep=';')"
   ]
  },
  {
   "cell_type": "code",
   "execution_count": null,
   "id": "d504f805",
   "metadata": {},
   "outputs": [],
   "source": []
  }
 ],
 "metadata": {
  "kernelspec": {
   "display_name": "Python 3 (ipykernel)",
   "language": "python",
   "name": "python3"
  },
  "language_info": {
   "codemirror_mode": {
    "name": "ipython",
    "version": 3
   },
   "file_extension": ".py",
   "mimetype": "text/x-python",
   "name": "python",
   "nbconvert_exporter": "python",
   "pygments_lexer": "ipython3",
   "version": "3.9.12"
  }
 },
 "nbformat": 4,
 "nbformat_minor": 5
}
