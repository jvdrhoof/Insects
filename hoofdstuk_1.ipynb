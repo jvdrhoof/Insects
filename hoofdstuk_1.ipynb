{
 "cells": [
  {
   "cell_type": "markdown",
   "id": "ae11d36b",
   "metadata": {},
   "source": [
    "# Modelleren van een rupsenuitbraak volgens de exponentiële groei\n",
    "\n",
    "Vele insecten willen zo veel mogelijk nakomelingen voortbrengen. In een generatie verpoppen buxusmotrupsen zich tot een buxusmotten, die op hun beurt nieuwe eitjes leggen op een haag. Uit deze eitjes kruipen nieuwe rupsen en de cyclus herbegint. Het leven van een insect is echter niet zonder gevaar. Op elk moment in de cyclus kunnen eitjes, rupsen, poppen en motten sterven door predatie van vogels, pesticiden, uithongering of andere gevaren. Gemiddeld gezien kan je echter aannemen dat elke rups aanleiding geeft tot een bepaald aantal nieuwe rupsen in de volgende generatie. Deze aanname vormt de basis van de **exponentiële groei**."
   ]
  },
  {
   "cell_type": "markdown",
   "id": "2e1338fe",
   "metadata": {},
   "source": [
    "## Exponentiële groei\n",
    "\n",
    "Wanneer je mag aannemen dat een rups gemiddeld gezien aanleiding geeft tot $a > 0$ nieuwe rupsen, bekom je de volgende uitdrukking:\n",
    "\n",
    "$$u_t = a \\cdot u_{t - 1}$$\n",
    "\n",
    "Deze vergelijking is niets anders dan het recursieve voorschrift van een rij, waarbij je op basis van een gegeven element eenvoudig het volgende element kan bepalen door te vermenigvuldigen met $a$. Deze parameter $a$ wordt de **groeifactor** genoemd.\n",
    "\n",
    "### Opdracht 1\n",
    "\n",
    "- Beschrijf de situatie naargelang de waarde van $a$. Wat gebeurt er bijvoorbeeld indien $a < 1$?\n",
    "- De rupsen van de buxusmot vormen een plaag. Welke waarden van $a$ passen in deze situatie?\n",
    "- Leg uit waarom je hier te maken hebt met **exponentiële groei**."
   ]
  },
  {
   "cell_type": "markdown",
   "id": "396eff2f",
   "metadata": {},
   "source": [
    "## Exponentieel model\n",
    "\n",
    "Bij een groeifactor $a = 1,6$ leidt elke rups gemiddeld tot iets meer dan anderhalve nieuwe rupsen per generatie. Beschouw een bescheiden beginpopulatie van vijf rupsen. Stel aan de hand van de volgende opdracht een wiskundig model op voor de evolutie van populatiegrootte.\n",
    "\n",
    "### Opdracht 2\n",
    "\n",
    "- Stel $a = 1,6$ en $u_0 = 5$. Bepaal dan het aantal rupsen op $t = 1$, $t = 2$, $t = 3$ en $t = 4$.\n",
    "- Stel het algemene voorschrift op voor de rij met deze exponentiële groei.\n",
    "\n",
    "Het algemene voorschrift stelt nu het exponentiële groeimodel voor!"
   ]
  },
  {
   "cell_type": "markdown",
   "id": "e1967f7f",
   "metadata": {},
   "source": [
    "## Interactieve notebook\n",
    "\n",
    "Nu ga je aan de slag met een interactieve online notebook. In de notebook zet je Python in om te rekenen en om het model grafisch voor te stellen.\n",
    "\n",
    "[![Knop](files/knop.png \"Knop\")](https://kiks.ilabt.imec.be/jupyterhub/?id=6010 \"Insect exponentieel\")"
   ]
  },
  {
   "cell_type": "markdown",
   "id": "63cde872",
   "metadata": {},
   "source": [
    "<br/>\n",
    "<br/>\n",
    "<br/>\n",
    "<br/>\n",
    "<br/>\n",
    "<br/>\n",
    "<br/>\n",
    "<br/>\n",
    "<br/>\n",
    "<br/>"
   ]
  },
  {
   "cell_type": "markdown",
   "id": "1a65156c",
   "metadata": {},
   "source": [
    "## Ongebonden exponentiële groei\n",
    "\n",
    "Vele insecten willen zo veel mogelijk nakomelingen als mogelijk voorbrengen. In een generatie verpopt een buxusmotrups zich tot een buxusmot, welke nieuwe eitjes legt op een nieuwe haag. Uit deze eitjes kruipen nieuwe rupsen en de cyclus herbegint. Het leven van een insect is echter niet zonder gevaar. Op elk moment in de cyclus kunnen eitjes, rupsen, poppen en motten sterven door predatie van vogels, pesticiden, uithongering of andere gevaren. Als je echter gemiddeld kijkt, kan je aannemen dat elke rups aanleiding geeft tot een bepaald aantal nieuwe rupsen in de volgende generatie. Dit leidt tot de volgende regel:\n",
    "\n",
    "$$u_t = a \\cdot u_{t - 1}$$\n",
    "\n",
    "waarbij $a > 0$ de groeifactor is. Dit is het recursieve voorschrift van een meetkundige rij, waarbij je op basis van een gegeven element uit de rij eenvoudig het volgende element kan bepalen door te vermenigvuldigen met $a$. In Python kan je dit recursieve voorschrift voorstellen als volgt:"
   ]
  },
  {
   "cell_type": "code",
   "execution_count": 1,
   "id": "a7452305",
   "metadata": {},
   "outputs": [],
   "source": [
    "def exponentiele_groei(u, a):\n",
    "    '''\n",
    "    Recursief voorschrift van de exponentiële groei\n",
    "    \n",
    "    Parameters\n",
    "    ----------\n",
    "    u: float\n",
    "        de initiële populatiegrootte\n",
    "    a: float\n",
    "        de groeifactor\n",
    "    \n",
    "    Output\n",
    "    ------\n",
    "    float\n",
    "        de nieuwe populatiegrootte\n",
    "    '''\n",
    "    \n",
    "    return a * u"
   ]
  },
  {
   "cell_type": "markdown",
   "id": "f361f8cf",
   "metadata": {},
   "source": [
    "> **Note**\n",
    "> Deze functie doet in principe niks anders dan $a$ vermenigvuldigen met $u$, wat kan aan de hand van de operator `*`.\n",
    "\n",
    "De groeifactor $a$ stelt het gemiddeld aantal nakomelingen per rups voor. Je werkt met gemiddelden, dus kommagetallen zoals $0,2$ en $3,1$ zijn toegestaan, maar negatieve getallen houden geen steek. Denk even na over de gevolgen van de waarde van de groeifactor $a$:\n",
    "\n",
    "- Als $a < 1$ brengt elke rups minder dan één rups voort per generatie. In elke tijdstap wordt de populatie kleiner en kleiner tot ze uiteindelijk uitsterft.\n",
    "\n",
    "- Indien $a > 1$ zal elke rups aanleiding geven tot meer dan één nieuwe rups in de volgende generatie. De populatie zal groeien.\n",
    "\n",
    "- In het randgeval waarbij $a = 1$ is de populatiegroote stabiel: de geboorte van nieuwe rupsen compenseert voor de sterfte.\n",
    "\n",
    "Aangezien je hier plaaginsecten beschouwt, zal de groeifactor hoogstwaarschijnlijk groter dan 1 zijn. Experimenteer even met $a = 1{,}6$:"
   ]
  },
  {
   "cell_type": "code",
   "execution_count": 2,
   "id": "258ac2f1",
   "metadata": {},
   "outputs": [],
   "source": [
    "a = 1.6"
   ]
  },
  {
   "cell_type": "markdown",
   "id": "87dc7952",
   "metadata": {},
   "source": [
    "Je moet nu enkel nog de waarde van een initiële $u_0$ bepalen, de populatiegrootte op $t = 0$. Begin met een bescheiden populatie van vijf rupsen:"
   ]
  },
  {
   "cell_type": "code",
   "execution_count": 3,
   "id": "7dc20142",
   "metadata": {},
   "outputs": [],
   "source": [
    "u_0 = 5"
   ]
  },
  {
   "cell_type": "markdown",
   "id": "a854fc13",
   "metadata": {},
   "source": [
    "Pas nu de functie toe:"
   ]
  },
  {
   "cell_type": "code",
   "execution_count": 4,
   "id": "d56b82ef",
   "metadata": {},
   "outputs": [
    {
     "name": "stdout",
     "output_type": "stream",
     "text": [
      "8.0\n"
     ]
    }
   ],
   "source": [
    "u_1 = exponentiele_groei(u_0, a)\n",
    "print(u_1)"
   ]
  },
  {
   "cell_type": "markdown",
   "id": "fa588e1c",
   "metadata": {},
   "source": [
    "> **Note**\n",
    "> Stel vast dat een decimaal getal (een `float`) teruggegeven wordt: dit komt omdat ook de parameter $a$ een decimaal getal is."
   ]
  },
  {
   "cell_type": "markdown",
   "id": "20fea5b0",
   "metadata": {},
   "source": [
    "Zoals verwacht zie je net geen verdubbeling van de populatie. Aangezien er voor elke rups in de huidige generatie gemiddeld 1,6 nieuwe rupsen aangemaakt worden, neemt het aantal rupsen tussen elke generatie met 60% toe. Deze laatste waarde wordt het **groeipercentage** genoemd, en wordt voorgesteld door de parameter $r$. Je vindt dan ook:\n",
    "\n",
    "$$u_t = a \\cdot u_{t - 1} = (1 + r) \\cdot u_{t - 1}$$"
   ]
  },
  {
   "cell_type": "markdown",
   "id": "b87d9905",
   "metadata": {},
   "source": [
    "Om nog een generatie verder te gaan, pas je de functie `exponentiele_groei` één keer toe op $u_1$, ofwel twee keer toe op $u_0$:"
   ]
  },
  {
   "cell_type": "code",
   "execution_count": 5,
   "id": "49032841",
   "metadata": {},
   "outputs": [
    {
     "name": "stdout",
     "output_type": "stream",
     "text": [
      "12.8\n"
     ]
    }
   ],
   "source": [
    "u_2 = exponentiele_groei(u_1, a)\n",
    "print(u_2)"
   ]
  },
  {
   "cell_type": "code",
   "execution_count": 6,
   "id": "567efad4",
   "metadata": {},
   "outputs": [
    {
     "name": "stdout",
     "output_type": "stream",
     "text": [
      "12.8\n"
     ]
    }
   ],
   "source": [
    "u_2 = exponentiele_groei(exponentiele_groei(u_0, a), a)\n",
    "print(u_2)"
   ]
  },
  {
   "cell_type": "markdown",
   "id": "98352b10",
   "metadata": {},
   "source": [
    "Ga zo verder naar de derde en de vierde generatie:"
   ]
  },
  {
   "cell_type": "code",
   "execution_count": 7,
   "id": "ecf9edcd",
   "metadata": {},
   "outputs": [
    {
     "name": "stdout",
     "output_type": "stream",
     "text": [
      "20.480000000000004\n"
     ]
    }
   ],
   "source": [
    "u_3 = exponentiele_groei(u_2, a)\n",
    "print(u_3)"
   ]
  },
  {
   "cell_type": "code",
   "execution_count": 8,
   "id": "de290f86",
   "metadata": {},
   "outputs": [
    {
     "name": "stdout",
     "output_type": "stream",
     "text": [
      "32.76800000000001\n"
     ]
    }
   ],
   "source": [
    "u_4 = exponentiele_groei(u_3, a)\n",
    "print(u_4)"
   ]
  },
  {
   "cell_type": "markdown",
   "id": "4dcf38ab",
   "metadata": {},
   "source": [
    "Je ziet dat de populatie na vier generaties al meer dan zes keer zo groot geworden is.\n",
    "\n",
    "Dit model laat toe om een expliciet voorschrift te bekomen voor de populatiegrootte doorheen de tijd:\n",
    "\n",
    "$$u_t = u_0 \\cdot a^t, t = 0, 1, 2, \\ldots$$\n",
    "\n",
    "Aangezien de variabele $t$ hier in de exponent staat, wordt dit groeimodel de exponentiële groei genoemd. De implementatie is relatief eenvoudig:"
   ]
  },
  {
   "cell_type": "code",
   "execution_count": 9,
   "id": "e765f642",
   "metadata": {},
   "outputs": [],
   "source": [
    "def exponentieel_model(t, u_0=5, a=1.6):\n",
    "    '''\n",
    "    Exponentieel model met expliciet voorschrift\n",
    "    \n",
    "    Parameters\n",
    "    ----------\n",
    "    t: int\n",
    "        aantal generaties\n",
    "    u: float\n",
    "        de initiële populatiegrootte\n",
    "    a: float\n",
    "        de groeifactor\n",
    "    \n",
    "    Output\n",
    "    ------\n",
    "    float\n",
    "        de nieuwe populatiegrootte\n",
    "    '''\n",
    "    \n",
    "    return u_0 * a ** t"
   ]
  },
  {
   "cell_type": "markdown",
   "id": "e05e8ba7",
   "metadata": {},
   "source": [
    "Hier wordt de groeifactor $a$ verheven tot de macht $t$ met behulp van de operator `**`. Stel vast dat dit model tot hetzelfde resultaat leidt als voordien:"
   ]
  },
  {
   "cell_type": "code",
   "execution_count": 10,
   "id": "bf908578",
   "metadata": {},
   "outputs": [
    {
     "name": "stdout",
     "output_type": "stream",
     "text": [
      "u_0 = 5.000\n",
      "u_1 = 8.000\n",
      "u_2 = 12.800\n",
      "u_3 = 20.480\n",
      "u_4 = 32.768\n"
     ]
    }
   ],
   "source": [
    "# itereer over de waarden t = 0 tot en met t = 4\n",
    "for t in range(5):\n",
    "    \n",
    "    # print het resultaat voor u_0 tot en met u_4\n",
    "    print(f\"u_{t} = {exponentieel_model(t):.3f}\")"
   ]
  },
  {
   "cell_type": "markdown",
   "id": "dc079fd1",
   "metadata": {},
   "source": [
    "> **Note**\n",
    "> Hierbij wordt gebruik gemaakt van `f-strings`, die toelaten om variabelen tussen accolades `{` en `}` te gebruiken. Verder zorgt de notatie `:.3f` ervoor dat er drie decimalen gebruikt worden bij het uitprinten."
   ]
  },
  {
   "cell_type": "markdown",
   "id": "0651a90b",
   "metadata": {},
   "source": [
    "### Opdracht 1\n",
    "\n",
    "Experimenteer even met de aangeboden functie, door verschillende startwaarden $u_0$ en groeifactoren $a$ te gebruiken. Bereken zelf eerst de waarden $u_1$, $u_2$ en $u_3$, en vergelijk met het resultaat hier."
   ]
  },
  {
   "cell_type": "code",
   "execution_count": 11,
   "id": "c17dfa6d",
   "metadata": {},
   "outputs": [
    {
     "name": "stdout",
     "output_type": "stream",
     "text": [
      "u_0 = 1.000\n",
      "u_1 = 1.600\n",
      "u_2 = 2.560\n",
      "u_3 = 4.096\n",
      "u_4 = 6.554\n"
     ]
    }
   ],
   "source": [
    "for t in range(5):\n",
    "    print(f\"u_{t} = {exponentieel_model(t, u_0=1):.3f}\")"
   ]
  },
  {
   "cell_type": "code",
   "execution_count": 12,
   "id": "8da04089",
   "metadata": {},
   "outputs": [
    {
     "name": "stdout",
     "output_type": "stream",
     "text": [
      "u_0 = 5.000\n",
      "u_1 = 15.000\n",
      "u_2 = 45.000\n",
      "u_3 = 135.000\n",
      "u_4 = 405.000\n"
     ]
    }
   ],
   "source": [
    "for t in range(5):\n",
    "    print(f\"u_{t} = {exponentieel_model(t, a=3):.3f}\")"
   ]
  },
  {
   "cell_type": "code",
   "execution_count": 13,
   "id": "407d33c4",
   "metadata": {},
   "outputs": [
    {
     "name": "stdout",
     "output_type": "stream",
     "text": [
      "u_0 = 1.000\n",
      "u_1 = 3.000\n",
      "u_2 = 9.000\n",
      "u_3 = 27.000\n",
      "u_4 = 81.000\n"
     ]
    }
   ],
   "source": [
    "for t in range(5):\n",
    "    print(f\"u_{t} = {exponentieel_model(t, u_0=1, a=3):.3f}\")"
   ]
  },
  {
   "cell_type": "markdown",
   "id": "81ea2ac5",
   "metadata": {},
   "source": [
    "Je maakt nu een figuur waarin de populatiegrootte geplot wordt voor tien generaties door gebruik te maken van `Matplotlib` en `NumPy`. Dit kan aan de hand van een spreidingsdiagram, een grafiek waarin individuele punten getoond worden. Je genereert hierbij twee rijen: een rij `t_data` met elementen van het type `int`, en een rij `u_data` met elementen van het type `float`. Dit kan als volgt:"
   ]
  },
  {
   "cell_type": "code",
   "execution_count": 14,
   "id": "3f4dae63",
   "metadata": {},
   "outputs": [
    {
     "data": {
      "image/png": "[encoded data removed]",
      "text/plain": [
       "<Figure size 432x288 with 1 Axes>"
      ]
     },
     "metadata": {
      "needs_background": "light"
     },
     "output_type": "display_data"
    }
   ],
   "source": [
    "# importeer de nodige bibliotheken\n",
    "from matplotlib import pyplot as plt\n",
    "import numpy as np\n",
    "\n",
    "# initaliseer een rij met gehele getallen van 0 tot en met 10\n",
    "data_t = np.arange(11)\n",
    "\n",
    "# bereken de populatiegrootte op tijdstip t\n",
    "data_u = exponentieel_model(data_t)\n",
    "\n",
    "# maak een nieuwe grafiek aan\n",
    "plt.figure()\n",
    "\n",
    "# plot alle punten met de scatter-functie\n",
    "plt.scatter(data_t, data_u, 20)\n",
    "\n",
    "# gebruik verduidelijkende labels\n",
    "plt.xlabel(\"Generatie\")\n",
    "plt.ylabel(\"Aantal rupsen\")\n",
    "\n",
    "# voeg een titel toe\n",
    "plt.title(\"Exponentiële groei met $u_0 = 5, a = 1.6$\")\n",
    "\n",
    "# toon de grafiek\n",
    "plt.show()"
   ]
  },
  {
   "cell_type": "markdown",
   "id": "dc83d19f",
   "metadata": {},
   "source": [
    "### Opdracht 2\n",
    "\n",
    "Print de waarden van `data_t` en `data_u` even uit. Stel vast dat de plaag erg snel groeit, wat verontrustend is!"
   ]
  },
  {
   "cell_type": "code",
   "execution_count": 15,
   "id": "a582eec8",
   "metadata": {},
   "outputs": [
    {
     "name": "stdout",
     "output_type": "stream",
     "text": [
      "[ 0  1  2  3  4  5  6  7  8  9 10]\n",
      "[  5.           8.          12.8         20.48        32.768\n",
      "  52.4288      83.88608    134.217728   214.7483648  343.59738368\n",
      " 549.75581389]\n"
     ]
    }
   ],
   "source": [
    "print(data_t)\n",
    "print(data_u)"
   ]
  },
  {
   "cell_type": "markdown",
   "id": "cd44879a",
   "metadata": {},
   "source": [
    "### Opdracht 3\n",
    "\n",
    "Kijk nu eens verder in de tijd, door de populatiegrootte te plotten voor 70 generaties. Wat stel je vast?"
   ]
  },
  {
   "cell_type": "code",
   "execution_count": 16,
   "id": "ae07520e",
   "metadata": {},
   "outputs": [
    {
     "data": {
      "image/png": "[encoded data removed]",
      "text/plain": [
       "<Figure size 432x288 with 1 Axes>"
      ]
     },
     "metadata": {
      "needs_background": "light"
     },
     "output_type": "display_data"
    }
   ],
   "source": [
    "data_t = np.arange(71)\n",
    "data_u = exponentieel_model(data_t)\n",
    "\n",
    "plt.figure()\n",
    "plt.scatter(data_t, data_u, 20)\n",
    "plt.xlabel('Generatie')\n",
    "plt.ylabel('Aantal rupsen')\n",
    "plt.title('Exponentiële groei met $u_0 = 5, a = 1.6$')\n",
    "plt.show()"
   ]
  },
  {
   "cell_type": "markdown",
   "id": "c8ee1438",
   "metadata": {},
   "source": [
    "Je stelt vast dat het aantal rupsen in de laatste iteraties heel sterk toeneemt!"
   ]
  },
  {
   "cell_type": "markdown",
   "id": "f59c238a",
   "metadata": {},
   "source": [
    "### Opdracht 4\n",
    "\n",
    "Hoeveel rupsen zijn er na 10 generaties? Hoeveel na 40? Hoeveel na 70?"
   ]
  },
  {
   "cell_type": "code",
   "execution_count": 17,
   "id": "75013de4",
   "metadata": {},
   "outputs": [
    {
     "name": "stdout",
     "output_type": "stream",
     "text": [
      "Aantal rupsen na 10 dagen: 550\n",
      "Aantal rupsen na 40 dagen: 730750819\n",
      "Aantal rupsen na 70 dagen: 971334446112868\n"
     ]
    }
   ],
   "source": [
    "for t in [10, 40, 70]:\n",
    "    print(f'Aantal rupsen na {t} dagen: {data_u[t]:.0f}')"
   ]
  },
  {
   "cell_type": "markdown",
   "id": "527f4536",
   "metadata": {},
   "source": [
    "Hierbij wordt een `for-lus` gebruikt, die het mogelijk maakt te itereren over de elementen in de lijst `[10, 40, 70]`."
   ]
  },
  {
   "cell_type": "markdown",
   "id": "198da8aa",
   "metadata": {},
   "source": [
    "### Opdracht 5\n",
    "\n",
    "Neem aan dat elke rups ongeveer 3 gram weegt. Wat is dan hun totale gewicht in kilogram na 70 generaties? Denk je dat een doorsnee tuin over voldoende buxushagen beschikt om dergelijke populaties te ondersteunen?"
   ]
  },
  {
   "cell_type": "code",
   "execution_count": 18,
   "id": "6ee376cb",
   "metadata": {},
   "outputs": [
    {
     "name": "stdout",
     "output_type": "stream",
     "text": [
      "2914003338338.605\n"
     ]
    }
   ],
   "source": [
    "print(data_u[70] * 0.003)"
   ]
  },
  {
   "cell_type": "markdown",
   "id": "8c5f2d2a",
   "metadata": {},
   "source": [
    "Je stelt vast dat de populatiegrootte zonder enige belemmering verder aangroeit. Na 70 generaties zijn er meer dan 970.000.000.000.000 rupsen. Als je aanneemt dat één rups ongeveer 3 gram weegt, zijn er na 70 generaties bijna 3 miljard ton aan rupsen, het equivalent van 2 miljard nijlpaarden. Er zijn bijlange niet genoeg buxushagen in de wereld om dergelijke populaties te ondersteunen!"
   ]
  },
  {
   "cell_type": "markdown",
   "id": "61724ecc",
   "metadata": {},
   "source": [
    "### Opdracht 6\n",
    "\n",
    "Hoelang duurt het tot er meer dan 1.000.000 rupsen zijn? Gebruik hiervoor een van de twee eerder gedefinieerde functies."
   ]
  },
  {
   "cell_type": "code",
   "execution_count": 19,
   "id": "ed01cc25",
   "metadata": {},
   "outputs": [
    {
     "name": "stdout",
     "output_type": "stream",
     "text": [
      "Na 26 generaties is de populatiegrootte groter dan 1 miljoen\n"
     ]
    }
   ],
   "source": [
    "u = 5\n",
    "t = 0\n",
    "while u < 1000000:\n",
    "    u = exponentiele_groei(u, 1.6)\n",
    "    t += 1\n",
    "print(f\"Na {t} generaties is de populatiegrootte groter dan 1 miljoen\")"
   ]
  },
  {
   "cell_type": "markdown",
   "id": "0bc390ac",
   "metadata": {},
   "source": [
    "In de praktijk heeft elk ecosystem een bepaalde <em>draagkracht</em>, de hoeveelheid voedsel, water en ruimte die voorhanden is om een bepaalde populatie te ondersteunen. De draagkracht wordt vaak voorgesteld door de letter $K$. Als je aanneemt dat $K = 10000$, dan heeft onze tuin genoeg buxussen om 10.000 rupsen te voeden, maar niet meer. In het volgende hoofdstuk leer je hoe je het model kan uitbreiden om hier rekening mee te houden!"
   ]
  },
  {
   "cell_type": "markdown",
   "id": "5b5c176f",
   "metadata": {},
   "source": [
    "## De insecten voorbij\n",
    "\n",
    "Groeimodellen vind je overal, niet enkel om de evolutie van insectenpopulaties te beschrijven, maar ook deze van kristallen, bacteriën, enzovoort. Een gekend voorbeeld van exponentiële groei vind je terug in de geneeskunde. Tijdens de **COVID-19 pandemie** werd exponentiële groei vaak in de mond genomen om het aantal besmette personen te beschrijven. De befaamde $R_0$-waarde waar epidemiologen het meer dan eens over hadden komt ruwweg overeen met de groeisnelheid $a$ die wij hier bestudeerden. Via sociale distancing, mondmaskers en vaccinatie werd er alles aan gedaan om deze onder een waarde van 1 te brengen."
   ]
  },
  {
   "cell_type": "markdown",
   "id": "489b15b8",
   "metadata": {},
   "source": [
    "### Opdracht 7\n",
    "\n",
    "In het bestand `covid.csv` vind je het aantal besmettingen en het aantal dodelijke slachtoffers terug die COVID-19 veroorzaakt heeft in België gedurende de eerste weken van de pandemie. Dit bestand bevat vijf kolommen, die respectievelijk de dag, de maand, het jaar, het aantal besmettingen en het aantal dodelijke slachtoffers weergeeft. Lees dit CSV-bestand in met behulp van de `Pandas` module, en plot het aantal besmettingen doorheen de tijd. Meer informatie over het inlezen van CSV-bestanden vind je [hier](https://pandas.pydata.org/docs/reference/api/pandas.read_csv.html) terug."
   ]
  },
  {
   "cell_type": "code",
   "execution_count": 20,
   "id": "5cbe42de",
   "metadata": {},
   "outputs": [
    {
     "data": {
      "image/png": "[encoded data removed]",
      "text/plain": [
       "<Figure size 432x288 with 1 Axes>"
      ]
     },
     "metadata": {
      "needs_background": "light"
     },
     "output_type": "display_data"
    }
   ],
   "source": [
    "# importeer de nodige bibliotheken\n",
    "import pandas as pd\n",
    "\n",
    "# TODO: lees het CSV-bestand uit\n",
    "corona = pd.read_csv(\"covid.csv\")\n",
    "\n",
    "# TODO: definieer de data die geplot moet worden\n",
    "data_u = np.array(corona[\"gevallen\"])\n",
    "data_t = np.arange(len(data_u))\n",
    "\n",
    "# TODO: maak een nieuwe grafiek aan\n",
    "plt.figure()\n",
    "\n",
    "# TODO: plot alle punten met de scatter-functie\n",
    "plt.scatter(data_t, data_u, marker =\".\", color=\"blue\")\n",
    "\n",
    "# TODO: gebruik verduidelijkende labels\n",
    "plt.xlabel(\"Dag sinds 1 maart 2020\")\n",
    "plt.ylabel(\"Aantal besmettingen\")\n",
    "\n",
    "# TODO: voeg een titel toe\n",
    "plt.title(\"Besmettingen met COVID-19\")\n",
    "\n",
    "# TODO: toon de grafiek\n",
    "plt.show()"
   ]
  },
  {
   "cell_type": "markdown",
   "id": "0377e162",
   "metadata": {},
   "source": [
    "### Opdracht 8\n",
    "\n",
    "Doe nu hetzelfde voor het aantal dodelijke slachtoffers. Welke trend stel je vast?"
   ]
  },
  {
   "cell_type": "code",
   "execution_count": 21,
   "id": "ab264fdc",
   "metadata": {},
   "outputs": [
    {
     "data": {
      "image/png": "[encoded data removed]",
      "text/plain": [
       "<Figure size 432x288 with 1 Axes>"
      ]
     },
     "metadata": {
      "needs_background": "light"
     },
     "output_type": "display_data"
    }
   ],
   "source": [
    "data_u = np.array(corona[\"doden\"])\n",
    "data_t = np.arange(len(data_u))\n",
    "\n",
    "plt.figure()\n",
    "plt.scatter(data_t, data_u, marker =\".\", color=\"red\")\n",
    "plt.xlabel(\"Dag sinds 1 maart 2020\")\n",
    "plt.ylabel(\"Aantal dodelijke slachtoffers\")\n",
    "plt.title(\"Overlijdens door COVID-19\")\n",
    "plt.show()"
   ]
  },
  {
   "cell_type": "markdown",
   "id": "0e7c6432",
   "metadata": {},
   "source": [
    "Als je de groeicurves bekijkt, zie je het gevaar van een exponentiële groei met $a > 1$: initieel neemt het aantal besmettingen gestaag toe, maar gaandeweg schiet dit aantal sneller en sneller de hoogte in. Daarom werd er ook zo significant ingegrepen, met onder meer een lockdown om verdere besmettingen te vermijden.\n",
    "\n",
    "Wil je hier meer over weten? Via [deze link](https://www.dwengo.org/backend/api/learningObject/getWrapped?hruid=pn_expogroei&version=3&language=nl) kan je een interessante notepad bekijken, waarin onder meer het aantal besmettingen en het aantal ziekenhuisopnames in België weergegeven wordt als een functie van de tijd. Ook leer je hoe je de data kunt benaderen aan de hand van een exponentiële curve."
   ]
  },
  {
   "cell_type": "markdown",
   "id": "a2dc63d0",
   "metadata": {},
   "source": [
    "Een ander gekend voorbeeld van exponentiële groei is de zogenaamde **Wet van Moore**, die stelt dat het aantal transistoren in een computerchip elke twee jaar verdubbelt. Om dit te illustreren kan je gebruik maken van een **logaritmische schaal**, die het mogelijk maakt om een groot interval van waarden op een compacte manier voor te stellen.\n",
    "\n",
    "Bij een traditionele **lineaire schaal** is de afstand tussen de getallen 1, 2, 3, 4, ... telkens even groot; het volstaat om het getal 1 op te tellen om eenzelfde afstand voort te bewegen langsheen de as. Bij een logaritmische schaal wordt een bepaalde afstand voortbewogen **wanneer een getal vermenigvuldigd wordt met een bepaalde constante**; de getallen 10, 100, 1000 en 10.000 liggen op die manier allemaal even ver van elkaar. Volgende grafieken illustreren dit concept:"
   ]
  },
  {
   "cell_type": "code",
   "execution_count": 22,
   "id": "f3e0fb62",
   "metadata": {},
   "outputs": [],
   "source": [
    "def plot_lin_log(t_data, u_data):\n",
    "    '''\n",
    "    Functie die koppels (t, u_t)-waarden plot op een lineaire en een\n",
    "    logaritmische schaal\n",
    "    \n",
    "    Parameters\n",
    "    ----------\n",
    "    data_t: list\n",
    "        bevat alle waarden van t\n",
    "    data_u: list\n",
    "        bevat alle waarden van u_t\n",
    "    '''\n",
    "    \n",
    "    # maak een nieuwe grafiek aan\n",
    "    plt.figure(figsize=(12, 5))\n",
    "\n",
    "    # plot de data met een lineaire y-as\n",
    "    ax = plt.subplot(1, 2, 1)\n",
    "    plt.scatter(data_t, data_u, marker =\".\", color=\"blue\")\n",
    "    plt.xlabel(\"t\")\n",
    "    plt.ylabel(\"$u_t$\")\n",
    "    plt.title(\"Lineaire y-as\")\n",
    "    ax.set_yscale(\"linear\")\n",
    "\n",
    "    # plot de data met een logaritmische y-as\n",
    "    ax = plt.subplot(1, 2, 2)\n",
    "    plt.scatter(data_t, data_u, marker =\".\", color=\"red\")\n",
    "    plt.xlabel(\"t\")\n",
    "    plt.ylabel(\"$u_t$\")\n",
    "    plt.title(\"Logaritmische y-as\")\n",
    "    ax.set_yscale(\"log\")\n",
    "\n",
    "    # toon de grafiek\n",
    "    plt.show()"
   ]
  },
  {
   "cell_type": "code",
   "execution_count": 23,
   "id": "3213e922",
   "metadata": {},
   "outputs": [
    {
     "data": {
      "image/png": "[encoded data removed]",
      "text/plain": [
       "<Figure size 864x360 with 2 Axes>"
      ]
     },
     "metadata": {
      "needs_background": "light"
     },
     "output_type": "display_data"
    }
   ],
   "source": [
    "# definieer de data die geplot moet worden\n",
    "data_t = np.arange(21)\n",
    "data_u = exponentieel_model(data_t, u_0=1, a=2)\n",
    "\n",
    "# plot de data\n",
    "plot_lin_log(data_t, data_u)"
   ]
  },
  {
   "cell_type": "markdown",
   "id": "2277a634",
   "metadata": {},
   "source": [
    "In de linkse figuur wordt een lineaire as gebruikt, in de rechtse figuur een logaritmische as. Omdat bij opeenvolgende punten op de x-as de overeenkomstige waarde op de y-as vermenigvuldigd wordt met de constante $a = 2$, stel je vast dat het exponentieel model visueel resulteert in punten die op eenzelfde rechte liggen."
   ]
  },
  {
   "cell_type": "markdown",
   "id": "565ba771",
   "metadata": {},
   "source": [
    "### Opdracht 9\n",
    "\n",
    "Maak deze grafieken nu ook voor $a = 1.5$ en $a = 2.5$, en stel vast dat je een gelijkaardig resultaat bekomt. Let er wel op dat de waarden vermeld op de y-assen significant verschillend zijn!"
   ]
  },
  {
   "cell_type": "code",
   "execution_count": 24,
   "id": "d6031a3c",
   "metadata": {},
   "outputs": [
    {
     "data": {
      "image/png": "[encoded data removed]",
      "text/plain": [
       "<Figure size 864x360 with 2 Axes>"
      ]
     },
     "metadata": {
      "needs_background": "light"
     },
     "output_type": "display_data"
    }
   ],
   "source": [
    "data_u = exponentieel_model(data_t, u_0=1, a=1.5)\n",
    "plot_lin_log(data_t, data_u)"
   ]
  },
  {
   "cell_type": "code",
   "execution_count": 25,
   "id": "308b9bca",
   "metadata": {},
   "outputs": [
    {
     "data": {
      "image/png": "[encoded data removed]",
      "text/plain": [
       "<Figure size 864x360 with 2 Axes>"
      ]
     },
     "metadata": {
      "needs_background": "light"
     },
     "output_type": "display_data"
    }
   ],
   "source": [
    "data_u = exponentieel_model(data_t, u_0=1, a=2.5)\n",
    "plot_lin_log(data_t, data_u)"
   ]
  },
  {
   "cell_type": "markdown",
   "id": "0a2f5470",
   "metadata": {},
   "source": [
    "Bekijk nu volgende grafiek, die het aantal transistoren op een computerchip toont in functie van de tijd. Stel vast dat er een logaritmische as gebruikt wordt, en dat je dus wel degelijk te maken hebt met een exponentiële groei!\n",
    "\n",
    "![Moore](files/moore.png \"Moore's Law\")"
   ]
  },
  {
   "cell_type": "markdown",
   "id": "f18ee810",
   "metadata": {},
   "source": [
    "Verschillende computerwetenschappers stellen dat de wet van Moore zich niet kan blijven doorzetten, omdat ontwikkelaars vroeg of laat op fysische grenzen zullen stuiten. **Oneindige groei is vrijwel altijd onmogelijk: ooit moet je op de limieten van het systeem botsen.** Toch vormt een exponentieel model vaak een uitstekende beschrijving van het begin van de groei."
   ]
  }
 ],
 "metadata": {
  "kernelspec": {
   "display_name": "Python 3 (ipykernel)",
   "language": "python",
   "name": "python3"
  },
  "language_info": {
   "codemirror_mode": {
    "name": "ipython",
    "version": 3
   },
   "file_extension": ".py",
   "mimetype": "text/x-python",
   "name": "python",
   "nbconvert_exporter": "python",
   "pygments_lexer": "ipython3",
   "version": "3.9.12"
  }
 },
 "nbformat": 4,
 "nbformat_minor": 5
}
