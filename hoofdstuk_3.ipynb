{
 "cells": [
  {
   "cell_type": "markdown",
   "id": "1f218527",
   "metadata": {},
   "source": [
    "# Modeleren van de levensloop van een kever met de Lesliematrix\n",
    "\n",
    "In de vorige hoofdstukken concentreerden we ons op het aantal bladluizen doorheen de tijd, waarbij we een bladluis als een onveranderende entiteit beschouwden. In dit hoofdstuk zullen we ook rekening houden met de levensfase waarin een insect zich kan bevinden! Beschouwen we bijvoorbeeld de kever, dan stellen we vast dat deze verschillende levensfases doorloopt:\n",
    "\n",
    "- De kever komt ter wereld in de vorm van een eitje\n",
    "- Uit het eitje komt een larve gekropen\n",
    "- De larve ontpopt zich tot een kever\n",
    "\n",
    "De overgang van één fase naar een andere is niet meteen evident te noemen. Zo werd er empirisch vastgesteld dat maar liefst 95% van de eitjes opgegeten wordt of nooit uitkomt! Wanneer er initieel 1000 eitjes zijn, blijven er na een maand slechts ongeveer 50 over. Uit het aantal eitjes $e(t)$ op tijdstip $t$, kunnen we dan ook het aantal larven l(t + 1) in de volgende tijdstap (i.e., een maand verder in de tijd) bepalen:\n",
    "\n",
    "$$l(t + 1) = 0.05 e(t)$$\n",
    "\n",
    "De kans om vervolgens van een larve naar een kever te gaan is een stuk groter: maar liefst 75%. Dit betekent dat het aantal kevers $k(t + 2)$ als volgt bepaald kan worden:\n",
    "\n",
    "$$k(t + 2) = 0.75 l(t + 1) = 0.75 \\cdot 0.05 e(t) = 0.0375 e(t)$$\n",
    "\n",
    "We vinden dus een temporeel verband tussen het aantal kevers en het aantal eitjes dat gelegd werd. We kunnen nu nog één stap verder gaan: kevers leggen in een maand tijd ongeveer 100 eitjes. Dat betekent dat het aantal eitjes in de volgende tijdstap als volgt bepaald kan worden:\n",
    "\n",
    "$$e(t + 3) = 100 k(t + 2) = 100 \\cdot 0.75 l(t + 1) = 100 \\cdot 0.75 \\cdot 0.05 e(t + 1) = 3.75 e(t)$$\n",
    "\n",
    "We kunnen al deze informatie nu in een graaf gieten:\n",
    "\n",
    "![Graaf](files/graph.png \"Graaf\")\n",
    "\n",
    "Stel nu dat we op tijdstip $t$ te maken hebben met $e(t) = 1000$ eitjes, $l(t) = 100$ larven en $k(t) = 60$ kevers. Hoe ziet de populatie er dan uit op tijstip $t + 1$? Om dit te bepalen, moeten we drie berekeningen doen:\n",
    "\n",
    "$$e(t + 1) = 100 k(t) = 100 \\cdot 60 = 6000$$\n",
    "$$l(t + 1) = 0.05 e(t) = 0.05 \\cdot 1000 = 50$$\n",
    "$$k(t + 1) = 0.75 l(t) = 0.75 \\cdot 100 = 75$$\n",
    "\n",
    "Willen we de waarden nu berekenen voor tijdstap $t + 2$, volgen opnieuw drie analoge berekeningen:\n",
    "\n",
    "$$e(t + 2) = 100 k(t + 1) = 100 \\cdot 75 = 7500$$\n",
    "$$l(t + 2) = 0.05 e(t + 1) = 0.05 \\cdot 6000 = 300$$\n",
    "$$k(t + 2) = 0.75 l(t + 1) = 0.75 \\cdot 50 = 37.5 \\approx 38$$\n",
    "\n",
    "Heel wat werk dus! Om dit proces te vereenvoudigen, zullen we in dit hoofdstuk gebruik maken van matrices."
   ]
  },
  {
   "cell_type": "markdown",
   "id": "67c8550d",
   "metadata": {},
   "source": [
    "## De Lesliematrix\n",
    "\n",
    "Om aan matrixvermenigvuldiging te kunnen doen, stellen we de toestand op tijdstip $t$ gelijk aan de vector $v_t = \\begin{bmatrix} 1000 \\\\ 100 \\\\ 60 \\end{bmatrix}$, die het aantal eitjes, levers en kevers omvat. Om dan de toestand $v_{t+1}$ op tijdstip $t + 1$ te bepalen, gebruiken we de zogeten Lesliematrix $L$, die de populatiegroei beschrijft. In bovenstaand voorbeeld ziet deze er als volgt uit:\n",
    "\n",
    "$$L = \\begin{bmatrix} 0 & 0 & 100 \\\\ 0.05 & 0 & 0 \\\\ 0 & 0.75 & 0 \\end{bmatrix}$$\n",
    "\n",
    "Vertrekken we nu van de toestand $v_t$, dan kan $v_{t + 1}$ berekend worden als volgt:\n",
    "\n",
    "$$v_{t + 1} = L v_t = \\begin{bmatrix} 0 & 0 & 100 \\\\ 0.05 & 0 & 0 \\\\ 0 & 0.75 & 0 \\end{bmatrix} \\begin{bmatrix} 1000 \\\\ 100 \\\\ 60 \\end{bmatrix} = \\begin{bmatrix} 6000 \\\\ 50 \\\\ 75 \\end{bmatrix}$$\n",
    "\n",
    "Gaan we een stap verder, dan vinden we:\n",
    "\n",
    "$$v_{t + 2} = L v_{t + 1} = \\begin{bmatrix} 0 & 0 & 100 \\\\ 0.05 & 0 & 0 \\\\ 0 & 0.75 & 0 \\end{bmatrix} \\begin{bmatrix} 6000 \\\\ 50 \\\\ 75 \\end{bmatrix} = \\begin{bmatrix} 7500 \\\\ 300 \\\\ 37.5 \\end{bmatrix}$$\n",
    "\n",
    "Bemerk dat deze laatste uitdrukking ook als volgt geschreven kan worden:\n",
    "\n",
    "$$v_{t + 2} = L v_{t + 1} = L L v_{t} = L^2 v_{t}$$\n",
    "\n",
    "Om het aantal eitjes, larven en kevers in tijdstap $t + n$ te berekenen, volstaat het dus om de $n$de macht van de matrix $L$ te berekenen, en te vermenigvuldigen met $v_t$:\n",
    "\n",
    "$$v_{t + n} = L v_{t + n - 1} = L^2 v_{t + n - 2} = \\ldots = L^{n - 1} v_{t + 1} = L^n v_{t}$$\n",
    "\n",
    "Hieronder zullen we de `numpy` library gebruiken om aan matrixvermenigvuldiging te doen."
   ]
  },
  {
   "cell_type": "markdown",
   "id": "cb8e8302",
   "metadata": {},
   "source": [
    "## Matrixvermenigvuldiging in Python\n",
    "\n",
    "In Python kunnen we de `numpy` library gebruiken, die het toelaat om met matrices te werken. Een eendimensonale matrix (of vector) V kan als volgt gedefinieerd worden:"
   ]
  },
  {
   "cell_type": "code",
   "execution_count": 1,
   "id": "b0454b18",
   "metadata": {},
   "outputs": [
    {
     "name": "stdout",
     "output_type": "stream",
     "text": [
      "[1 2 3]\n"
     ]
    }
   ],
   "source": [
    "import numpy as np\n",
    "\n",
    "v = np.array([1, 2, 3])\n",
    "print(v)"
   ]
  },
  {
   "cell_type": "markdown",
   "id": "5d1ee773",
   "metadata": {},
   "source": [
    "Een tweedimensionale matrix $M$ kan als volgt gedefinieerd worden:"
   ]
  },
  {
   "cell_type": "code",
   "execution_count": 2,
   "id": "de21d00e",
   "metadata": {},
   "outputs": [
    {
     "name": "stdout",
     "output_type": "stream",
     "text": [
      "[[10 32 67]\n",
      " [46 71 14]\n",
      " [19 23 31]]\n"
     ]
    }
   ],
   "source": [
    "M = np.array([[10, 32, 67], [46, 71, 14], [19, 23, 31]])\n",
    "print(M)"
   ]
  },
  {
   "cell_type": "markdown",
   "id": "64a45ca1",
   "metadata": {},
   "source": [
    "Beschouwen we een tweede matrix $N$:"
   ]
  },
  {
   "cell_type": "code",
   "execution_count": 3,
   "id": "ba670226",
   "metadata": {},
   "outputs": [
    {
     "name": "stdout",
     "output_type": "stream",
     "text": [
      "[[50 30 60]\n",
      " [10 80 60]\n",
      " [20 15 30]]\n"
     ]
    }
   ],
   "source": [
    "N = np.array([[50, 30, 60], [10, 80, 60], [20, 15, 30]])\n",
    "print(N)"
   ]
  },
  {
   "cell_type": "markdown",
   "id": "e063ebf3",
   "metadata": {},
   "source": [
    "Dan kunnen we deze twee matrices als volgt vermenigvuldigen:"
   ]
  },
  {
   "cell_type": "code",
   "execution_count": 4,
   "id": "6ed82369",
   "metadata": {},
   "outputs": [
    {
     "name": "stdout",
     "output_type": "stream",
     "text": [
      "[[2160 3865 4530]\n",
      " [3290 7270 7440]\n",
      " [1800 2875 3450]]\n"
     ]
    }
   ],
   "source": [
    "L = M @ N\n",
    "print(L)"
   ]
  },
  {
   "cell_type": "markdown",
   "id": "3250c5be",
   "metadata": {},
   "source": [
    "Gelet op het feit dat $v$ een rijmatrix is, is het wiskundig gezien niet mogelijk om $v$ links te vermenigvuldigen met $L$. In de `numpy` library gaat dit echter wel:"
   ]
  },
  {
   "cell_type": "code",
   "execution_count": 5,
   "id": "4eaa6b89",
   "metadata": {},
   "outputs": [
    {
     "name": "stdout",
     "output_type": "stream",
     "text": [
      "[23480 40150 17900]\n"
     ]
    }
   ],
   "source": [
    "X = L @ v\n",
    "print(X)"
   ]
  },
  {
   "cell_type": "markdown",
   "id": "4a748633",
   "metadata": {},
   "source": [
    "Uiteraard is het ook prima om $v$ te definiëren als een kolommatrix. In dat geval vinden we:"
   ]
  },
  {
   "cell_type": "code",
   "execution_count": 6,
   "id": "ee42a48a",
   "metadata": {},
   "outputs": [
    {
     "name": "stdout",
     "output_type": "stream",
     "text": [
      "[[1]\n",
      " [2]\n",
      " [3]]\n"
     ]
    }
   ],
   "source": [
    "v = np.array([[1], [2], [3]])\n",
    "print(v)"
   ]
  },
  {
   "cell_type": "code",
   "execution_count": 7,
   "id": "1ff739a5",
   "metadata": {},
   "outputs": [
    {
     "name": "stdout",
     "output_type": "stream",
     "text": [
      "[[23480]\n",
      " [40150]\n",
      " [17900]]\n"
     ]
    }
   ],
   "source": [
    "X = L @ v\n",
    "print(X)"
   ]
  },
  {
   "cell_type": "markdown",
   "id": "06f0930c",
   "metadata": {},
   "source": [
    "## De Lesliematrix in Python\n",
    "\n",
    "Gewapend met bovenstaande kennis, kunnen we de vector $v_t$ en de Lesliematrix $L$ uit het voorbeeld van de kevers als volgt definiëren:"
   ]
  },
  {
   "cell_type": "code",
   "execution_count": 8,
   "id": "5b5f257b",
   "metadata": {},
   "outputs": [
    {
     "name": "stdout",
     "output_type": "stream",
     "text": [
      "[1000  100   60]\n"
     ]
    }
   ],
   "source": [
    "v_t = np.array([1000, 100, 60])\n",
    "print(v_t)"
   ]
  },
  {
   "cell_type": "code",
   "execution_count": 9,
   "id": "62129eca",
   "metadata": {},
   "outputs": [
    {
     "name": "stdout",
     "output_type": "stream",
     "text": [
      "[[0.0e+00 0.0e+00 1.0e+02]\n",
      " [5.0e-02 0.0e+00 0.0e+00]\n",
      " [0.0e+00 7.5e-01 0.0e+00]]\n"
     ]
    }
   ],
   "source": [
    "L = np.array([[0, 0, 100], [0.05, 0, 0], [0, 0.75, 0]])\n",
    "print(L)"
   ]
  },
  {
   "cell_type": "markdown",
   "id": "c905f371",
   "metadata": {},
   "source": [
    "De wiskundige notatie kan ietwat verwarrend zijn. Daarom kan volgende commando gebruikt worden:"
   ]
  },
  {
   "cell_type": "code",
   "execution_count": 10,
   "id": "562e45c7",
   "metadata": {},
   "outputs": [],
   "source": [
    "np.set_printoptions(suppress=True)"
   ]
  },
  {
   "cell_type": "markdown",
   "id": "ad82d85d",
   "metadata": {},
   "source": [
    "Nu wordt de matrix als volgt geprint:"
   ]
  },
  {
   "cell_type": "code",
   "execution_count": 11,
   "id": "0c40e50f",
   "metadata": {},
   "outputs": [
    {
     "name": "stdout",
     "output_type": "stream",
     "text": [
      "[[  0.     0.   100.  ]\n",
      " [  0.05   0.     0.  ]\n",
      " [  0.     0.75   0.  ]]\n"
     ]
    }
   ],
   "source": [
    "print(L)"
   ]
  },
  {
   "cell_type": "markdown",
   "id": "ca145f80",
   "metadata": {},
   "source": [
    "De toestand op tijdstip $t + 1$ kan nu als volgt berekend worden:"
   ]
  },
  {
   "cell_type": "code",
   "execution_count": 12,
   "id": "c31e7b68",
   "metadata": {},
   "outputs": [
    {
     "name": "stdout",
     "output_type": "stream",
     "text": [
      "[6000.   50.   75.]\n"
     ]
    }
   ],
   "source": [
    "v_new = L @ v_t\n",
    "print(v_new)"
   ]
  },
  {
   "cell_type": "markdown",
   "id": "19d3d93a",
   "metadata": {},
   "source": [
    "Voor de toestand op tijdstip $t + 2$ vinden we dan:"
   ]
  },
  {
   "cell_type": "code",
   "execution_count": 13,
   "id": "2b8cb677",
   "metadata": {},
   "outputs": [
    {
     "name": "stdout",
     "output_type": "stream",
     "text": [
      "[7500.   300.    37.5]\n"
     ]
    }
   ],
   "source": [
    "v_new = L @ v_new\n",
    "print(v_new)"
   ]
  },
  {
   "cell_type": "markdown",
   "id": "f92313f4",
   "metadata": {},
   "source": [
    "## Opdracht 1\n",
    "\n",
    "Vervolledig onderstaande functie, de de toestand $v_{t + n}$ berekent met behulp van de `numpy` library:"
   ]
  },
  {
   "cell_type": "code",
   "execution_count": 14,
   "id": "f6354548",
   "metadata": {},
   "outputs": [],
   "source": [
    "def bereken_toestand(L, v, n):\n",
    "    \"\"\"\n",
    "    Geef, vertrekkend vanuit de toestand v, de toestand na n tijdsstappen\n",
    "    terug wanneer de populatiegroei bepaald wordt door de Lesliematrix L\n",
    "    \n",
    "    Parameters\n",
    "    ----------\n",
    "    L: array\n",
    "        De Lesliematrix\n",
    "    v: array\n",
    "        De huidige toestand\n",
    "    n: int\n",
    "        Het aantal tijdsstappen\n",
    "\n",
    "    Returns\n",
    "    -------\n",
    "    array\n",
    "        De nieuwe toestand\n",
    "    \"\"\"\n",
    "    M = L\n",
    "    for i in range(n - 1):\n",
    "        M = M @ L\n",
    "    return M @ v"
   ]
  },
  {
   "cell_type": "markdown",
   "id": "7ed518c3",
   "metadata": {},
   "source": [
    "Als je deze functie juist geïmplementeerd hebt, zouden onderstaande commando's tot dezelfde resultaten moeten leiden als het voorbeeld in de inleiding van dit hoofdstuk: $\\begin{bmatrix} 6000 \\\\ 50 \\\\ 75 \\end{bmatrix}$ en $\\begin{bmatrix} 7500 \\\\ 300 \\\\ 37,5 \\end{bmatrix}$. Controleer dit!"
   ]
  },
  {
   "cell_type": "code",
   "execution_count": 15,
   "id": "cf2d7650",
   "metadata": {},
   "outputs": [
    {
     "name": "stdout",
     "output_type": "stream",
     "text": [
      "[6000.   50.   75.]\n"
     ]
    }
   ],
   "source": [
    "v_new = bereken_toestand(L, v_t, 1)\n",
    "print(v_new)"
   ]
  },
  {
   "cell_type": "code",
   "execution_count": 16,
   "id": "d912e73c",
   "metadata": {},
   "outputs": [
    {
     "name": "stdout",
     "output_type": "stream",
     "text": [
      "[7500.   300.    37.5]\n"
     ]
    }
   ],
   "source": [
    "v_new = bereken_toestand(L, v_t, 2)\n",
    "print(v_new)"
   ]
  },
  {
   "cell_type": "markdown",
   "id": "1c77b368",
   "metadata": {},
   "source": [
    "We kunnen nu gerust een paar stappen verder gaan! Bereken het resultaat voor $n = 100$ en stel vast dat je erg grote waarden bekomt."
   ]
  },
  {
   "cell_type": "code",
   "execution_count": 17,
   "id": "ccae5f6b",
   "metadata": {},
   "outputs": [
    {
     "name": "stdout",
     "output_type": "stream",
     "text": [
      "[5.26239066e+22 4.38532555e+20 6.57798833e+20]\n"
     ]
    }
   ],
   "source": [
    "v_new = bereken_toestand(L, v_t, 100)\n",
    "print(v_new)"
   ]
  },
  {
   "cell_type": "markdown",
   "id": "53ce8d01",
   "metadata": {},
   "source": [
    "Gaan we nog even verder, dan bekomen we voor $n = 1000$:"
   ]
  },
  {
   "cell_type": "code",
   "execution_count": 18,
   "id": "215b82f3",
   "metadata": {},
   "outputs": [
    {
     "name": "stdout",
     "output_type": "stream",
     "text": [
      "[8.52242923e+194 7.10202436e+192 1.06530365e+193]\n"
     ]
    }
   ],
   "source": [
    "v_new = bereken_toestand(L, v_t, 1000)\n",
    "print(v_new)"
   ]
  },
  {
   "cell_type": "markdown",
   "id": "8dd99cd8",
   "metadata": {},
   "source": [
    "Het lijkt erop dat de groei min of meer ongeremd is!"
   ]
  },
  {
   "cell_type": "markdown",
   "id": "b1913809",
   "metadata": {},
   "source": [
    "## Opdracht 2\n",
    "\n",
    "We zijn niet alleen geïnteresseerd in het aantal eitjes, larven en kevers in elke tijdsstap, maar ook in het totale aantal diertjes. Op tijdstip $t$ bedraagt het totale aantal $1000 + 100 + 60 = 1160$. We wensen er nu voor te zorgen dat dit totaal in elke tijdsstap automatisch berekend wordt, door deze op te nemen in de toestand $v_t$:"
   ]
  },
  {
   "cell_type": "code",
   "execution_count": 19,
   "id": "fc904223",
   "metadata": {},
   "outputs": [],
   "source": [
    "v_t = np.array([1000, 100, 60, 1160])"
   ]
  },
  {
   "cell_type": "markdown",
   "id": "78f9c8ee",
   "metadata": {},
   "source": [
    "Om verdere berekeningen mogelijk te maken, zal de Lesliematrix $L$ aangepast moeten worden. Gelukkig laat de `numpy` library toe om matrices als volgt uit te breiden:"
   ]
  },
  {
   "cell_type": "code",
   "execution_count": 20,
   "id": "f72a1e8c",
   "metadata": {},
   "outputs": [
    {
     "name": "stdout",
     "output_type": "stream",
     "text": [
      "[[10 32 67]\n",
      " [46 71 14]\n",
      " [19 23 31]]\n"
     ]
    }
   ],
   "source": [
    "print(M)"
   ]
  },
  {
   "cell_type": "code",
   "execution_count": 21,
   "id": "6b48fbe2",
   "metadata": {},
   "outputs": [
    {
     "name": "stdout",
     "output_type": "stream",
     "text": [
      "[[10 32 67]\n",
      " [46 71 14]\n",
      " [19 23 31]\n",
      " [ 1  2  3]]\n"
     ]
    }
   ],
   "source": [
    "M_new = np.append(M, [[1, 2, 3]], 0)\n",
    "print(M_new)"
   ]
  },
  {
   "cell_type": "code",
   "execution_count": 22,
   "id": "db55c662",
   "metadata": {},
   "outputs": [
    {
     "name": "stdout",
     "output_type": "stream",
     "text": [
      "[[10 32 67  1]\n",
      " [46 71 14  2]\n",
      " [19 23 31  3]]\n"
     ]
    }
   ],
   "source": [
    "M_new = np.append(M, [[1], [2], [3]], 1)\n",
    "print(M_new)"
   ]
  },
  {
   "cell_type": "markdown",
   "id": "8c5f6ec5",
   "metadata": {},
   "source": [
    "Gebruik deze kennis nu om de Lesliematrix $L$ uit te breiden tot een matrix van dimensie $4 \\times 4$, zodat het resultaat van $L v_t$ gelijk is aan $v_{t + 1} = [6000, 50, 75, 6125]$."
   ]
  },
  {
   "cell_type": "code",
   "execution_count": 23,
   "id": "586603ba",
   "metadata": {},
   "outputs": [
    {
     "name": "stdout",
     "output_type": "stream",
     "text": [
      "[[  0.     0.   100.     0.  ]\n",
      " [  0.05   0.     0.     0.  ]\n",
      " [  0.     0.75   0.     0.  ]\n",
      " [  0.05   0.75 100.     0.  ]]\n"
     ]
    }
   ],
   "source": [
    "L_new = np.append(np.append(L, [[0.05, 0.75, 100]], 0), np.zeros([4, 1]), 1)\n",
    "print(L_new)"
   ]
  },
  {
   "cell_type": "code",
   "execution_count": 24,
   "id": "e5dfca19",
   "metadata": {},
   "outputs": [
    {
     "name": "stdout",
     "output_type": "stream",
     "text": [
      "[6000.   50.   75. 6125.]\n"
     ]
    }
   ],
   "source": [
    "v_new = bereken_toestand(L_new, v_t, 1)\n",
    "print(v_new)"
   ]
  },
  {
   "cell_type": "markdown",
   "id": "0a82420b",
   "metadata": {},
   "source": [
    "Controleer nu ook dat het resultaat van $L v_{t + 1}$ gelijk is aan $[7500, 300, 37.5, 7837.5]$."
   ]
  },
  {
   "cell_type": "code",
   "execution_count": 25,
   "id": "1279f743",
   "metadata": {},
   "outputs": [
    {
     "name": "stdout",
     "output_type": "stream",
     "text": [
      "[7500.   300.    37.5 7837.5]\n"
     ]
    }
   ],
   "source": [
    "v_new = bereken_toestand(L_new, v_t, 2)\n",
    "print(v_new)"
   ]
  },
  {
   "cell_type": "markdown",
   "id": "88f3f190",
   "metadata": {},
   "source": [
    "We zijn nu in staat om de totale populatiegrootte te berekenen. In de volgende opdracht gaan we deze weergeven als een functie van de tijd!"
   ]
  },
  {
   "cell_type": "markdown",
   "id": "695593ec",
   "metadata": {},
   "source": [
    "## Opdracht 3\n",
    "\n",
    "Onderstaande functie heeft als doel een plot te maken van de populatiegrootte doorheen de tijd. Het is de bedoeling om stap voor stap over alle toestanden te itereren, en het resultaat als een nieuwe rij toe te voegen aan de matrix `results`. Hiertoe kan je de functie `vstack` gebruiken, waar [hier](https://numpy.org/doc/stable/reference/generated/numpy.vstack.html) meer over te vinden is. Eens je over alle toestanden geïtereerd hebt, kan de vierde kolom (index 3 in Python) gebruikt worden als y-waarde van de functie `plot`. Als alles goed is, zou je hierna een figuur moeten kunnen weergeven waarin de populatiegrootte getoond wordt voor tien nieuwe tijdsstappen."
   ]
  },
  {
   "cell_type": "code",
   "execution_count": 26,
   "id": "798fa9b4",
   "metadata": {},
   "outputs": [],
   "source": [
    "from matplotlib import pyplot as plt\n",
    "\n",
    "\n",
    "def plot_populatiegrootte(L, v, n):\n",
    "    \"\"\"\n",
    "    Plot, vertrekkend vanuit de toestand v, de populatiegrootte gedurende n\n",
    "    tijdsstappen wanneer de populatiegroei bepaald wordt door de Lesliematrix L\n",
    "    \n",
    "    Parameters\n",
    "    ----------\n",
    "    L: array\n",
    "        De Lesliematrix\n",
    "    v: array\n",
    "        De huidige toestand\n",
    "    n: int\n",
    "        Het aantal tijdsstappen\n",
    "    \"\"\"\n",
    "    # Start met een enkele rij, die de huidige toestand bevat\n",
    "    results = np.array([v])\n",
    "    \n",
    "    # Itereer stap per stap over alle toestanden en voeg deze toe\n",
    "    for i in range(n):\n",
    "        results = np.vstack([results, L @ results[-1]])\n",
    "    \n",
    "    # Plot de populatiegrootte doorheen de tijd\n",
    "    plt.plot(list(range(n + 1)), results[:, 3])\n",
    "    \n",
    "    plt.xlabel('Tijdsstap')\n",
    "    plt.ylabel('Populatiegrootte')\n",
    "    plt.title('Populatiegrootte doorheen de tijd')\n",
    "    plt.show()"
   ]
  },
  {
   "cell_type": "code",
   "execution_count": 27,
   "id": "20f5f987",
   "metadata": {},
   "outputs": [
    {
     "data": {
      "image/png": "[encoded data removed]",
      "text/plain": [
       "<Figure size 432x288 with 1 Axes>"
      ]
     },
     "metadata": {
      "needs_background": "light"
     },
     "output_type": "display_data"
    }
   ],
   "source": [
    "plot_populatiegrootte(L_new, v_t, 10)"
   ]
  },
  {
   "cell_type": "markdown",
   "id": "3f75a31c",
   "metadata": {},
   "source": [
    "Naast deze implementatie is het ook mogelijk om de functie `stackplot` te gebruiken, die de aandelen van de verschillende levensvormen visueel weergeeft. Dit kan als volgt (details niet te kennen, enkel informatief):"
   ]
  },
  {
   "cell_type": "code",
   "execution_count": 28,
   "id": "8a7eb2a3",
   "metadata": {},
   "outputs": [],
   "source": [
    "def plot_varianten(L, v, n):\n",
    "    results = v.reshape(len(v), 1)\n",
    "    for i in range(n):\n",
    "        new = L @ results[:, -1]\n",
    "        results = np.append(results, new.reshape(len(new), 1), 1)\n",
    "    plt.stackplot(list(range(n + 1)), results[:3], baseline=\"zero\")\n",
    "    plt.legend(['Eitjes', 'Larven', 'Kevers'], loc='upper left', framealpha=1)\n",
    "    plt.xlabel('Tijdsstap')\n",
    "    plt.ylabel('Aantal')\n",
    "    plt.title('Aandeel eitjes, larven en kevers')\n",
    "    plt.show()"
   ]
  },
  {
   "cell_type": "code",
   "execution_count": 29,
   "id": "5c2f0e8e",
   "metadata": {},
   "outputs": [
    {
     "data": {
      "image/png": "[encoded data removed]",
      "text/plain": [
       "<Figure size 432x288 with 1 Axes>"
      ]
     },
     "metadata": {
      "needs_background": "light"
     },
     "output_type": "display_data"
    }
   ],
   "source": [
    "plot_varianten(L_new, v_t, 20)"
   ]
  },
  {
   "cell_type": "markdown",
   "id": "5aea5891",
   "metadata": {},
   "source": [
    "Hier stellen we duidelijk vast dat het grootste deel van de populatie bestaat uit eitjes, en dat er over het algemeen meer larven dan kevers zijn. In het volgende voorbeeld zal het verschil tussen verschillende categorieën minder uitgesproken zijn."
   ]
  },
  {
   "cell_type": "markdown",
   "id": "abee290b",
   "metadata": {},
   "source": [
    "## De insecten voorbij\n",
    "\n",
    "De Lesliematrix werd in voorgaand voorbeeld uitsluitend gebruikt om een kever van één levensloop naar een andere te doen gaan, waarbij enkel een kever voor reproductie in de vorm van eitjes kon zorgen. Het model kan evenwel ook op andere manieren gebruikt worden. In wat volgt gebruiken we het model om de levensloop van een vrouw in kader te brengen.\n",
    "\n",
    "We delen allereerst de levensloop van een vrouw in in perioden van tien jaar: van 0 tot 10 jaar, van 10 tot 20 jaar, etc. Vervolgens berekenen we de kans dat een pasgeboren meisje de leeftijd van 10 jaar haalt, dat een meisje van 10 de leeftijd van 20 jaar haalt, dat een vrouw van 20 de leeftijd van 30 haalt, etc. Deze kans gebruiken we als overgangswaarden van de ene toestand naar de volgende, net zoals we dat deden bij de kevers.\n",
    "\n",
    "Om de kansen te berekenen, baseren we ons op de sterftetafel van 2022 in België, die [hier](https://statbel.fgov.be/sites/default/files/files/documents/bevolking/5.4%20Sterfte%2C%20levensverwachting%20en%20doodsoorzaken/5.4.3%20Sterftetafels%20en%20levensverwachting/sterftetafelsAE.xls) terug te vinden is. Om de kans te berekenen dat een pasgeboren meisje de leeftijd van 10 jaar haalt, volstaat het om het aantal meisjes van 10 jaar te delen door het aantal pasgeboren meisjes: $996227 / 1000000 \\approx 0.9962$. Op een gelijkaardige manier kunnen we te werk gaan om de andere kansen te berekenen. Vul op basis van de sterftetafel volgende tabel verder aan:"
   ]
  },
  {
   "cell_type": "markdown",
   "id": "9d2f021b",
   "metadata": {},
   "source": [
    "|  Leeftijd |  Kans  |\n",
    "|-----------|--------|\n",
    "|   0 -  10 | 0.9962 |\n",
    "|  10 -  20 | 0.9989 |\n",
    "|  20 -  30 | 0.9979 |\n",
    "|  30 -  40 | 0.9955 |\n",
    "|  40 -  50 | 0.9889 |\n",
    "|  50 -  60 | 0.9708 |\n",
    "|  60 -  70 | 0.9275 |\n",
    "|  70 -  80 | 0.8189 |\n",
    "|  80 -  90 | 0.4949 |\n",
    "|  90 - 100 | 0.0699 |\n",
    "| 100 - 110 | 0      |"
   ]
  },
  {
   "cell_type": "markdown",
   "id": "47478cdf",
   "metadata": {},
   "source": [
    "De laatste waarde van 0 is een onderschatting van de werkelijke kans om 110 jaar te worden wanneer de leeftijd van 100 bereikt wordt, maar we gebruiken deze hier bij gebrek aan data.\n",
    "\n",
    "Naast deze faseovergangen gedurende de levensloop van een vrouw, moeten we ook rekening houden met de geboorte van nieuwe dochters. Hierbij kunnen we uitgaan van volgende fictieve data:\n",
    "\n",
    "|  Leeftijd | # dochters |\n",
    "|-----------|------------|\n",
    "|   0 -  10 | 0          |\n",
    "|  10 -  20 | 0.05       |\n",
    "|  20 -  30 | 0.57       |\n",
    "|  30 -  40 | 0.49       |\n",
    "|  40 -  50 | 0.04       |\n",
    "|  50 -  60 | 0          |\n",
    "|  60 -  70 | 0          |\n",
    "|  70 -  80 | 0          |\n",
    "|  80 -  90 | 0          |\n",
    "|  90 - 100 | 0          |\n",
    "| 100 - 110 | 0          |\n",
    "\n",
    "Dit houdt in dat de verwachtingswaarde van het aantal nieuwe dochters van tiener gelijk is aan 0.04, terwijl het verwachte aantal nieuwe dochters van een twintiger gelijk is aan 0.47.\n",
    "\n",
    "## Opdracht 4\n",
    "\n",
    "Ontwerp met behulp van `numpy` een Lesliematrix $L$ die bovenstaande gegevens omvat. Maak hierbij gebruik van de functie `zeros`, die het mogelijk maakt om een matrix met enkel nullen aan te maken:"
   ]
  },
  {
   "cell_type": "code",
   "execution_count": 30,
   "id": "ebeaf39d",
   "metadata": {},
   "outputs": [
    {
     "name": "stdout",
     "output_type": "stream",
     "text": [
      "[[0. 0. 0. 0. 0. 0.]\n",
      " [0. 0. 0. 0. 0. 0.]\n",
      " [0. 0. 0. 0. 0. 0.]\n",
      " [0. 0. 0. 0. 0. 0.]]\n"
     ]
    }
   ],
   "source": [
    "M = np.zeros([4, 6])\n",
    "print(M)"
   ]
  },
  {
   "cell_type": "markdown",
   "id": "ca3babf3",
   "metadata": {},
   "source": [
    "Gebruik deze functie nu om een lege matrix $L$ aan te maken, en vervolgens de berekende/gegeven waarden in te vullen. We kunen dan de functies die hierboven geprogrammeerd werden opnieuw gebruiken om op basis van een toestand $v_t$ op tijdstip $t$ de nieuwe toestand $v_{t + 1}$ tien jaar later te berekenen. We starten vanuit deze toestand:\n",
    "\n",
    "$$v_t = [660000, 656000, 650000, 640000, 630000, 610000, 580000, 530000, 500000, 200000, 15000]$$"
   ]
  },
  {
   "cell_type": "code",
   "execution_count": 31,
   "id": "579eb912",
   "metadata": {},
   "outputs": [
    {
     "name": "stdout",
     "output_type": "stream",
     "text": [
      "[[0.     0.05   0.57   0.49   0.04   0.     0.     0.     0.     0.\n",
      "  0.    ]\n",
      " [0.9962 0.     0.     0.     0.     0.     0.     0.     0.     0.\n",
      "  0.    ]\n",
      " [0.     0.9989 0.     0.     0.     0.     0.     0.     0.     0.\n",
      "  0.    ]\n",
      " [0.     0.     0.9979 0.     0.     0.     0.     0.     0.     0.\n",
      "  0.    ]\n",
      " [0.     0.     0.     0.9955 0.     0.     0.     0.     0.     0.\n",
      "  0.    ]\n",
      " [0.     0.     0.     0.     0.9889 0.     0.     0.     0.     0.\n",
      "  0.    ]\n",
      " [0.     0.     0.     0.     0.     0.9708 0.     0.     0.     0.\n",
      "  0.    ]\n",
      " [0.     0.     0.     0.     0.     0.     0.9275 0.     0.     0.\n",
      "  0.    ]\n",
      " [0.     0.     0.     0.     0.     0.     0.     0.8189 0.     0.\n",
      "  0.    ]\n",
      " [0.     0.     0.     0.     0.     0.     0.     0.     0.4949 0.\n",
      "  0.    ]\n",
      " [0.     0.     0.     0.     0.     0.     0.     0.     0.     0.0699\n",
      "  0.    ]]\n"
     ]
    }
   ],
   "source": [
    "# Matrix met nullen\n",
    "L = np.zeros([11, 11])\n",
    "\n",
    "# Overgang naar ander decennium\n",
    "L[1, 0] = 0.9962\n",
    "L[2, 1] = 0.9989\n",
    "L[3, 2] = 0.9979\n",
    "L[4, 3] = 0.9955\n",
    "L[5, 4] = 0.9889\n",
    "L[6, 5] = 0.9708\n",
    "L[7, 6] = 0.9275\n",
    "L[8, 7] = 0.8189\n",
    "L[9, 8] = 0.4949\n",
    "L[10, 9] = 0.0699\n",
    "\n",
    "# Aantal geboortes\n",
    "L[0, 1] = 0.05\n",
    "L[0, 2] = 0.57\n",
    "L[0, 3] = 0.49\n",
    "L[0, 4] = 0.04\n",
    "\n",
    "# Print de matrix\n",
    "print(L)"
   ]
  },
  {
   "cell_type": "markdown",
   "id": "d4094b22",
   "metadata": {},
   "source": [
    "De huidige toestand wordt als volgt gedefinieerd:"
   ]
  },
  {
   "cell_type": "code",
   "execution_count": 32,
   "id": "30579ccb",
   "metadata": {},
   "outputs": [],
   "source": [
    "# Huidige toestand\n",
    "v = np.array([660000, 656000, 650000, 640000, 630000, 610000, 580000, 530000, 500000, 200000, 15000])"
   ]
  },
  {
   "cell_type": "markdown",
   "id": "274b761b",
   "metadata": {},
   "source": [
    "Als je de matrix $L$ juist gedefinieerd hebt, zal je in staat zijn om stap per stap de nieuwe toestand te berekenen. Doen we dit bijvoorbeeld voor $v_{t + 1}$:"
   ]
  },
  {
   "cell_type": "code",
   "execution_count": 33,
   "id": "a3c14ff3",
   "metadata": {},
   "outputs": [
    {
     "name": "stdout",
     "output_type": "stream",
     "text": [
      "[742100.  657492.  655278.4 648635.  637120.  623007.  592188.  537950.\n",
      " 434017.  247450.   13980. ]\n"
     ]
    }
   ],
   "source": [
    "v_new = L @ v\n",
    "print(v_new)"
   ]
  },
  {
   "cell_type": "markdown",
   "id": "17aa6d11",
   "metadata": {},
   "source": [
    "Net als bij de kevers, kunnen we ook hier het aandeel van elke categorie plotten doorheen de tijd:"
   ]
  },
  {
   "cell_type": "code",
   "execution_count": 34,
   "id": "b328cc90",
   "metadata": {},
   "outputs": [],
   "source": [
    "def plot_leeftijden(L, v, n):\n",
    "    results = v.reshape(len(v), 1)\n",
    "    for i in range(n):\n",
    "        new = L @ results[:, -1]\n",
    "        results = np.append(results, new.reshape(len(new), 1), 1)\n",
    "    plt.stackplot(list(range(n + 1)), results, baseline=\"zero\")\n",
    "    plt.legend([f'{10 * i} - {10 * i + 10}' for i in range(11)], loc='upper left', framealpha=1, bbox_to_anchor=(1, 1))\n",
    "    plt.xlabel('Tijdsstap')\n",
    "    plt.ylabel('Aantal')\n",
    "    plt.title('Aandeel leeftijdscategorieën')\n",
    "    plt.show()"
   ]
  },
  {
   "cell_type": "code",
   "execution_count": 35,
   "id": "4c881fdd",
   "metadata": {},
   "outputs": [
    {
     "data": {
      "image/png": "[encoded data removed]",
      "text/plain": [
       "<Figure size 432x288 with 1 Axes>"
      ]
     },
     "metadata": {
      "needs_background": "light"
     },
     "output_type": "display_data"
    }
   ],
   "source": [
    "plot_leeftijden(L, v, 20)"
   ]
  },
  {
   "cell_type": "markdown",
   "id": "5b66d38d",
   "metadata": {},
   "source": [
    "We zien dat het aantal vrouwen in elke categorie stijgt. We wensen nu volgende vraag te beantwoorden: wanneer zal het totale aantal pasgeboren meisjes voor het eerst boven de 1 miljoen gaan?\n",
    "\n",
    "Dit kan je bepalen door stap voor stap de nieuwe toestand te berekenen, en na te gaan hoeveel pasgeboren meisjes er zijn. Print in elke tussenstap uit hoeveel tijdsperioden er gepasseerd zijn, en hoeveel meisjes er dan zijn. Stop met itereren zodra het aantal pasgeboren meisjes groter is dan 1 miljoen. Wat is je antwoord?"
   ]
  },
  {
   "cell_type": "code",
   "execution_count": 36,
   "id": "937fc160",
   "metadata": {},
   "outputs": [
    {
     "name": "stdout",
     "output_type": "stream",
     "text": [
      "1, 742100\n",
      "2, 749699\n",
      "3, 757562\n",
      "4, 805447\n",
      "5, 850157\n",
      "6, 863946\n",
      "7, 897461\n",
      "8, 947118\n",
      "9, 980257\n",
      "10, 1010217\n"
     ]
    }
   ],
   "source": [
    "i = 1\n",
    "v_new = v\n",
    "while True:\n",
    "    v_new = L @ v_new\n",
    "    print(f\"{i}, {int(v_new[0])}\")\n",
    "    if v_new[0] > 1000000:\n",
    "        break\n",
    "    i += 1"
   ]
  },
  {
   "cell_type": "code",
   "execution_count": null,
   "id": "0202f2a2",
   "metadata": {},
   "outputs": [],
   "source": []
  }
 ],
 "metadata": {
  "kernelspec": {
   "display_name": "Python 3 (ipykernel)",
   "language": "python",
   "name": "python3"
  },
  "language_info": {
   "codemirror_mode": {
    "name": "ipython",
    "version": 3
   },
   "file_extension": ".py",
   "mimetype": "text/x-python",
   "name": "python",
   "nbconvert_exporter": "python",
   "pygments_lexer": "ipython3",
   "version": "3.9.12"
  }
 },
 "nbformat": 4,
 "nbformat_minor": 5
}
