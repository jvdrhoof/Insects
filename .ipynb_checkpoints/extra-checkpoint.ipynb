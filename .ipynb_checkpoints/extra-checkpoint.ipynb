{
 "cells": [
  {
   "cell_type": "markdown",
   "id": "04f00547",
   "metadata": {},
   "source": [
    "## Wetenschapsdomein 6: Wiskunde\n",
    "\n",
    "06.05.16: De leerlingen voeren bewerkingen uit met matrices: optelling, scalaire vermenigvuldiging,\n",
    "matrixvermenigvuldiging, machtsverheffing en transpositie.\n",
    "\n",
    "- Rekenregels en eigenschappen\n",
    "\n",
    "Beheersingsniveau: toepassen\n",
    "\n",
    "## Wetenschapsdomein 7: Informatiewetenschappen\n",
    "\n",
    "07.01.01: De leerlingen programmeren zelf ontworpen oplossingen voor concrete problemen.\n",
    "\n",
    "- algoritmische technieken\n",
    "- algoritmen en datastructuren\n",
    "- numerieke methodes\n",
    "- gebruik van softwarebibliotheken\n",
    "- gestructureerde programmeertaal\n",
    "- invoer van en uitvoer naar externe gegevensbronnen\n",
    "\n",
    "Beheersingsniveau: creëren"
   ]
  },
  {
   "cell_type": "code",
   "execution_count": null,
   "id": "2b1c6e91",
   "metadata": {},
   "outputs": [],
   "source": []
  }
 ],
 "metadata": {
  "kernelspec": {
   "display_name": "Python 3 (ipykernel)",
   "language": "python",
   "name": "python3"
  },
  "language_info": {
   "codemirror_mode": {
    "name": "ipython",
    "version": 3
   },
   "file_extension": ".py",
   "mimetype": "text/x-python",
   "name": "python",
   "nbconvert_exporter": "python",
   "pygments_lexer": "ipython3",
   "version": "3.10.11"
  }
 },
 "nbformat": 4,
 "nbformat_minor": 5
}
